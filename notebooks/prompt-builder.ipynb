{
 "cells": [
  {
   "cell_type": "code",
   "execution_count": 1,
   "metadata": {},
   "outputs": [],
   "source": [
    "from dotenv import load_dotenv\n",
    "import os\n",
    "load_dotenv(\"../.env\")\n",
    "api_key = os.environ.get('OPENAI-API-KEY')"
   ]
  },
  {
   "cell_type": "code",
   "execution_count": 61,
   "metadata": {},
   "outputs": [],
   "source": [
    "from langchain.embeddings.openai import OpenAIEmbeddings\n",
    "from langchain.text_splitter import CharacterTextSplitter\n",
    "from langchain.docstore.document import Document\n",
    "from langchain.prompts import PromptTemplate\n",
    "from langchain.document_loaders import PyMuPDFLoader\n",
    "from langchain.llms import OpenAI\n",
    "from operator import itemgetter\n",
    "import numpy as np\n",
    "import tiktoken\n",
    "from langchain.prompts import BasePromptTemplate\n",
    "from pydantic import BaseModel, validator\n",
    "\n",
    "from typing import List, Dict, Tuple"
   ]
  },
  {
   "attachments": {},
   "cell_type": "markdown",
   "metadata": {},
   "source": [
    "# Functions"
   ]
  },
  {
   "attachments": {},
   "cell_type": "markdown",
   "metadata": {},
   "source": [
    "Parse and embed"
   ]
  },
  {
   "cell_type": "code",
   "execution_count": 6,
   "metadata": {},
   "outputs": [],
   "source": [
    "# this prevents the metadata from being None which causes errors with the vectorstore\n",
    "def sanitize_metadata(data):\n",
    "    for item in data:\n",
    "        meta = item.metadata\n",
    "        for key, value in meta.items():\n",
    "            if value is None:\n",
    "                meta[key] = \"\"\n",
    "    return data"
   ]
  },
  {
   "cell_type": "code",
   "execution_count": 13,
   "metadata": {},
   "outputs": [],
   "source": [
    "def unpack (data):\n",
    "    return [{'page' : idx + 1, 'content' : page.page_content, 'metadata' : page.metadata} for idx, page in enumerate(data)]"
   ]
  },
  {
   "attachments": {},
   "cell_type": "markdown",
   "metadata": {},
   "source": [
    "getting context"
   ]
  },
  {
   "cell_type": "code",
   "execution_count": 26,
   "metadata": {},
   "outputs": [],
   "source": [
    "def dot_product_similarity(doc_data: List[Dict], query_data: Dict) -> List[Tuple[int, float]]:\n",
    "    query_embedding = query_data['embedding']\n",
    "    doc_embeddings = [page['embedding'] for page in doc_data]\n",
    "    tuples_list = [(page['page'], np.dot(query_embedding, embedding)) for page, embedding in zip(doc_data, doc_embeddings)]\n",
    "    ordered_tuples = sorted(tuples_list, key=itemgetter(1), reverse=True)\n",
    "    top_five_tuples = ordered_tuples[:5]\n",
    "    return top_five_tuples\n"
   ]
  },
  {
   "cell_type": "code",
   "execution_count": 28,
   "metadata": {},
   "outputs": [],
   "source": [
    "def embed_query(query: str):\n",
    "    base_embeddings = OpenAIEmbeddings()\n",
    "    embedding = base_embeddings.embed_query(query)\n",
    "    return {\"query\" : query, \"embedding\" : embedding}"
   ]
  },
  {
   "cell_type": "code",
   "execution_count": 35,
   "metadata": {},
   "outputs": [],
   "source": [
    "def embed_doc(text_list : List[str]):\n",
    "    base_embeddings = OpenAIEmbeddings()\n",
    "    doc_embeddings = base_embeddings.embed_documents(text_list)\n",
    "    return doc_embeddings"
   ]
  },
  {
   "cell_type": "code",
   "execution_count": 27,
   "metadata": {},
   "outputs": [],
   "source": [
    "def get_context(query_data, doc_data: List[Dict]) -> List[Dict]:\n",
    "    top_five_tuples = dot_product_similarity(doc_data, query_data)\n",
    "    context = []\n",
    "    for item in top_five_tuples:\n",
    "        page = item[0]\n",
    "        data = {'page': page, 'similarity' : item[1], 'text': doc_data[page - 1]['content'], 'metadata' : doc_data[page - 1]['metadata']}\n",
    "        context.append(data)\n",
    "    return context"
   ]
  },
  {
   "cell_type": "code",
   "execution_count": 46,
   "metadata": {},
   "outputs": [],
   "source": [
    "def get_tokens(string: str, model: str) -> int:\n",
    "    \"\"\"Returns the number of tokens in a text string.\"\"\"\n",
    "    encoding = tiktoken.encoding_for_model(model)\n",
    "    num_tokens = len(encoding.encode(string))\n",
    "    return num_tokens"
   ]
  },
  {
   "cell_type": "code",
   "execution_count": 80,
   "metadata": {},
   "outputs": [],
   "source": [
    "def format_context(context: List[Dict], model: str, token_limit : int) -> str:\n",
    "    \"\"\"Returns a string of the first 1024 tokens of the context.\"\"\"\n",
    "    context_string = \"\"\n",
    "    meta_list = []\n",
    "    encoding = tiktoken.encoding_for_model(model)\n",
    "    for idx, item in enumerate(context):\n",
    "        sanitized_text = item['text'].replace(\"\\n\", \" \")\n",
    "        context_string += f\"Page: {item['page']}\\n\\nText: {sanitized_text}\\n\\n\"\n",
    "        meta_list.append(item['metadata'])\n",
    "        tokens = get_tokens(context_string, model)\n",
    "        if tokens > token_limit:\n",
    "            encoded_text = encoding.encode(context_string)\n",
    "            # cut it down to the token limit\n",
    "            encoded_text = encoded_text[:token_limit]\n",
    "            # decode it back to a string\n",
    "            context_string = encoding.decode(encoded_text)\n",
    "            # some testing to make sure it worked\n",
    "            tokens = get_tokens(context_string, model)\n",
    "            assert tokens <= token_limit, f\"format context function failed to cut context down far enough. tokens: {tokens}\"\n",
    "            break\n",
    "    return context_string, meta_list"
   ]
  },
  {
   "attachments": {},
   "cell_type": "markdown",
   "metadata": {},
   "source": [
    "# Main"
   ]
  },
  {
   "cell_type": "code",
   "execution_count": 4,
   "metadata": {},
   "outputs": [],
   "source": [
    "fpath = \"../data/powers2017.pdf\""
   ]
  },
  {
   "attachments": {},
   "cell_type": "markdown",
   "metadata": {},
   "source": [
    "Parse the PDF"
   ]
  },
  {
   "cell_type": "code",
   "execution_count": 7,
   "metadata": {},
   "outputs": [],
   "source": [
    "loader = PyMuPDFLoader(fpath)\n",
    "# load the data\n",
    "unsanitized = loader.load()\n",
    "# make sure the metadata is not None\n",
    "data = sanitize_metadata(unsanitized)"
   ]
  },
  {
   "cell_type": "code",
   "execution_count": 17,
   "metadata": {},
   "outputs": [],
   "source": [
    "base_embeddings = OpenAIEmbeddings()\n",
    "doc_embeddings = base_embeddings.embed_documents([page.page_content for page in data])"
   ]
  },
  {
   "cell_type": "code",
   "execution_count": 19,
   "metadata": {},
   "outputs": [],
   "source": [
    "mongodoc = unpack(data)\n",
    "mongodoc = [{**page, \"embedding\": embedding} for page, embedding in zip(mongodoc, doc_embeddings)]"
   ]
  },
  {
   "attachments": {},
   "cell_type": "markdown",
   "metadata": {},
   "source": [
    "Get Query Data"
   ]
  },
  {
   "cell_type": "code",
   "execution_count": 98,
   "metadata": {},
   "outputs": [],
   "source": [
    "query = \"What is a good mental health treatment for depression?\"\n",
    "query_data = embed_query(query)\n",
    "context = get_context(query_data, mongodoc)"
   ]
  },
  {
   "attachments": {},
   "cell_type": "markdown",
   "metadata": {},
   "source": [
    "Cut the context down to the token limit and format it"
   ]
  },
  {
   "cell_type": "code",
   "execution_count": 83,
   "metadata": {},
   "outputs": [],
   "source": [
    "model = \"text-davinci-003\"\n",
    "token_limit = 2800\n",
    "context_string, meta_list = format_context(context, model, token_limit)"
   ]
  },
  {
   "cell_type": "code",
   "execution_count": null,
   "metadata": {},
   "outputs": [],
   "source": [
    "print(context_string)"
   ]
  },
  {
   "attachments": {},
   "cell_type": "markdown",
   "metadata": {},
   "source": [
    "Build the prompt"
   ]
  },
  {
   "cell_type": "code",
   "execution_count": 88,
   "metadata": {},
   "outputs": [],
   "source": [
    "class DocQAPromptTemplate(BasePromptTemplate, BaseModel):\n",
    "    \"\"\" A custom prompt template that takes a query and document data, and formats the prompt template to provide the formatted context + query to the language model. \"\"\"\n",
    "    @validator(\"input_variables\")\n",
    "    def validate_input_variables(cls, v):\n",
    "        \"\"\" Validate that the input variables are correct. \"\"\"\n",
    "        if len(v) != 2:\n",
    "            raise ValueError(\"DocQAPromptTemplate must have two input variables: query and context.\")\n",
    "        return v\n",
    "    \n",
    "    def format(self, query, formatted_context) -> str:\n",
    "        # Get the source code of the function\n",
    "        instruction = \"Answer the query with a lengthy, deatiled reponse, to the best of your ability based on the provided context. If the question isn't relevant to the context, tell me that and briefly describe the context.\"\n",
    "        # Generate the prompt to be sent to the language model\n",
    "        prompt = f\"INSTRUCTION:\\n{instruction}\\n\\nCONTEXT:\\n{formatted_context}\\n\\nQUERY:\\n{query}\\n\\nOUTPUT:\\n\"\n",
    "        return prompt\n",
    "    \n",
    "    def _prompt_type(self):\n",
    "        return \"doc context + query\""
   ]
  },
  {
   "cell_type": "code",
   "execution_count": 100,
   "metadata": {},
   "outputs": [],
   "source": [
    "prompt_template = DocQAPromptTemplate(input_variables=[\"query\", \"formatted_context\"])\n",
    "prompt = prompt_template.format(query, context_string)"
   ]
  },
  {
   "cell_type": "code",
   "execution_count": 102,
   "metadata": {},
   "outputs": [
    {
     "name": "stdout",
     "output_type": "stream",
     "text": [
      "Cognitive-Behavioral Therapy (CBT) is a well-established, highly effective form of treatment for major depression. CBT is an evidence-based treatment in which clients learn to identify, challenge, and replace negative thoughts and behaviors that lead to depressive feelings and symptoms. CBT is typically a short-term treatment (eight to twelve sessions) that focuses on current problems rather than past events. In CBT for depression, the therapist and client work together to identify patterns of thinking and behavior that are unhelpful and to replace them with more healthy ones. CBT helps clients to recognize their negative thoughts, question the validity of those thoughts, and then test their new, healthier thoughts in real-life situations. Clients also learn strategies to build and practice skills to manage stress, regulate emotions, manage difficult relationships, and identify and use important sources of social support. Other therapeutic interventions, such as Interpersonal Therapy (IPT), Mindfulness-Based Cognitive Therapy (MBCT), Dialectical Behavioral Therapy (DBT), Acceptance and Commitment Therapy (ACT) and Eye Movement Desensitization and Reprocessing (EMDR), have also been shown to be effective for the treatment of depression. In some cases, medications may be recommended\n",
      "[{'file_path': '../data/powers2017.pdf', 'page_number': 6, 'total_pages': 13, 'format': 'PDF 1.7', 'title': 'Core Mechanisms of Cognitive Behavioral Therapy for Anxiety and Depression', 'author': 'Mark B. Powers PhD', 'subject': 'Psychiatric Clinics of NA, 40 (2017) 611-623. doi:10.1016/j.psc.2017.08.010', 'keywords': '', 'creator': 'Elsevier', 'producer': 'Acrobat Distiller 8.1.0 (Windows)', 'creationDate': '24th October 2017', 'modDate': \"D:20171024190454+05'30'\", 'trapped': '', 'encryption': ''}, {'file_path': '../data/powers2017.pdf', 'page_number': 7, 'total_pages': 13, 'format': 'PDF 1.7', 'title': 'Core Mechanisms of Cognitive Behavioral Therapy for Anxiety and Depression', 'author': 'Mark B. Powers PhD', 'subject': 'Psychiatric Clinics of NA, 40 (2017) 611-623. doi:10.1016/j.psc.2017.08.010', 'keywords': '', 'creator': 'Elsevier', 'producer': 'Acrobat Distiller 8.1.0 (Windows)', 'creationDate': '24th October 2017', 'modDate': \"D:20171024190454+05'30'\", 'trapped': '', 'encryption': ''}, {'file_path': '../data/powers2017.pdf', 'page_number': 13, 'total_pages': 13, 'format': 'PDF 1.7', 'title': 'Core Mechanisms of Cognitive Behavioral Therapy for Anxiety and Depression', 'author': 'Mark B. Powers PhD', 'subject': 'Psychiatric Clinics of NA, 40 (2017) 611-623. doi:10.1016/j.psc.2017.08.010', 'keywords': '', 'creator': 'Elsevier', 'producer': 'Acrobat Distiller 8.1.0 (Windows)', 'creationDate': '24th October 2017', 'modDate': \"D:20171024190454+05'30'\", 'trapped': '', 'encryption': ''}, {'file_path': '../data/powers2017.pdf', 'page_number': 2, 'total_pages': 13, 'format': 'PDF 1.7', 'title': 'Core Mechanisms of Cognitive Behavioral Therapy for Anxiety and Depression', 'author': 'Mark B. Powers PhD', 'subject': 'Psychiatric Clinics of NA, 40 (2017) 611-623. doi:10.1016/j.psc.2017.08.010', 'keywords': '', 'creator': 'Elsevier', 'producer': 'Acrobat Distiller 8.1.0 (Windows)', 'creationDate': '24th October 2017', 'modDate': \"D:20171024190454+05'30'\", 'trapped': '', 'encryption': ''}]\n"
     ]
    }
   ],
   "source": [
    "llm = OpenAI(temperature=0.9)\n",
    "print(llm(prompt))\n",
    "print(meta_list)"
   ]
  }
 ],
 "metadata": {
  "kernelspec": {
   "display_name": "venv",
   "language": "python",
   "name": "python3"
  },
  "language_info": {
   "codemirror_mode": {
    "name": "ipython",
    "version": 3
   },
   "file_extension": ".py",
   "mimetype": "text/x-python",
   "name": "python",
   "nbconvert_exporter": "python",
   "pygments_lexer": "ipython3",
   "version": "3.9.9"
  },
  "orig_nbformat": 4,
  "vscode": {
   "interpreter": {
    "hash": "d30dbc225a77f624d100d49fcf625dcab10209cefe14c68d9c5591ea408b94d7"
   }
  }
 },
 "nbformat": 4,
 "nbformat_minor": 2
}
