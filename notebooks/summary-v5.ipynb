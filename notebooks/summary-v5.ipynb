{
 "cells": [
  {
   "cell_type": "code",
   "execution_count": 1,
   "metadata": {},
   "outputs": [],
   "source": [
    "from dotenv import load_dotenv\n",
    "import os\n",
    "import sys\n",
    "load_dotenv(\".env\")\n",
    "sys.path.append(os.environ.get(\"PACKAGE_PATH\"))\n",
    "\n",
    "OPENAI_API_KEY = os.environ.get('OPENAI-API-KEY')\n",
    "import openai\n",
    "openai.api_key = OPENAI_API_KEY\n",
    "\n",
    "import time\n",
    "\n",
    "from package.document import Document\n",
    "from package.sync_chain_v3 import Chain"
   ]
  },
  {
   "cell_type": "code",
   "execution_count": 2,
   "metadata": {},
   "outputs": [
    {
     "name": "stdout",
     "output_type": "stream",
     "text": [
      "Starting doc processing...\n",
      "\n",
      "Warning: gpt-3.5-turbo may change over time. Returning num tokens assuming gpt-3.5-turbo-0301.\n",
      "Doc processed in 1.48 seconds.\n"
     ]
    }
   ],
   "source": [
    "print(\"Starting doc processing...\\n\")\n",
    "start = time.perf_counter()\n",
    "fpath = \"/Users/beneverman/Documents/Coding/semantic-search/ai-summarizer/data/powers2017.pdf\"\n",
    "doc = Document(fpath)\n",
    "doc.process_doc().get_chunks(\"gpt-3.5-turbo\", 2000)\n",
    "elapsed = time.perf_counter() - start\n",
    "\n",
    "print(f\"Doc processed in {elapsed:0.2f} seconds.\")"
   ]
  },
  {
   "cell_type": "code",
   "execution_count": 3,
   "metadata": {},
   "outputs": [
    {
     "name": "stdout",
     "output_type": "stream",
     "text": [
      "Starting summary generation...\n",
      "\n",
      "Warning: model not found. Using cl100k_base encoding.\n",
      "Warning: gpt-4 may change over time. Returning num tokens assuming gpt-4-0314.\n",
      "Input token sizes: [2017, 2017, 2017, 2017, 941]\n",
      "Total input token size: 9009\n",
      "Batch generating summaries for all chunks...\n",
      "Summaries generated, aggregate length 53055 tokens.\n",
      "Summaries generated in 22.21 seconds.\n"
     ]
    }
   ],
   "source": [
    "print(\"Starting summary generation...\\n\")\n",
    "\n",
    "start = time.perf_counter()\n",
    "chain = Chain(doc, model=\"gpt-4\")\n",
    "chain.completion_summarize()\n",
    "elapsed = time.perf_counter() - start\n",
    "\n",
    "print(f\"Summaries generated in {elapsed:0.2f} seconds.\")"
   ]
  },
  {
   "cell_type": "code",
   "execution_count": 11,
   "metadata": {},
   "outputs": [
    {
     "data": {
      "text/plain": [
       "5"
      ]
     },
     "execution_count": 11,
     "metadata": {},
     "output_type": "execute_result"
    }
   ],
   "source": [
    "len(chain.summaries)"
   ]
  },
  {
   "cell_type": "code",
   "execution_count": 12,
   "metadata": {},
   "outputs": [
    {
     "name": "stdout",
     "output_type": "stream",
     "text": [
      "Aggregating summaries...\n"
     ]
    }
   ],
   "source": [
    "data = chain.aggregate(chain.summaries)"
   ]
  },
  {
   "cell_type": "code",
   "execution_count": 13,
   "metadata": {},
   "outputs": [
    {
     "data": {
      "text/plain": [
       "{'response': 'Cognitive Behavioral Therapy (CBT) is an effective treatment for anxiety and depression, with fear extinction being the primary learning mechanism for anxiety disorders. Cognitive change, achieved through cognitive restructuring, behavioral activation, and other processes, is the most researched mediator of CBT for depression. Additionally, cognitive change is important in CBT for both anxiety and depression, regardless of the method used to achieve it. Extinction learning plays a crucial role in enhancing exposure-based treatments, while sleep and positive mood inductions can reduce fear reinstatement and improve exposure therapy. Acceptance and commitment therapy has also been found to be effective in treating mental and physical health problems. Overall, the process of change, rather than the specific content of the change, is the most important factor in CBT.',\n",
       " 'messages': [{'role': 'system', 'content': 'You are a helpful assistant.'},\n",
       "  {'role': 'user',\n",
       "   'content': 'Aggregate the following summaries into a single summary:\\n\\npatients showed greater extinction learning than healthy controls during a cueing task 57 The authors believe this indicates that CBT improved their ability to inhibit fear responses to safety cues MEDIATORS OF CHANGE IN CBT FOR DEPRESSION Cognitive Change The most researched mediator of CBT for depression is cognitive change 35 In this section the authors review the literature on cognitive change as a mediator of CBT for depression Cognitive change is likely a broad construct including many possible processes such as cognitive restructuring behavioral activation or any other process that leads to cognitive change Cognitive change is generally viewed as a mediator of change in CBT for depression regardless of the method of cognitive change achieved through cognitive restructuring behavioral activation and so forth This notion that the method of cognitive change is less important than the fact that it occurs is supported by several studies 58 A meta analysis of cognitive change as a mediator of CBT for depression showed that cognitive change mediates change in depression regardless of the method employed 15 Thus cognitive change may be a central mediator of CBT for depression regardless of the method used to achieve it\\n\\nDirect quotes:\\n\"It is difficult to separate psychological and neural mechanisms because they may measure the same processes at different levels of analysis.\"\\n\"Fear extinction is the type of learning that takes place during cognitive behavioral therapy CBT for anxiety.\"\\n\"Cognitive change largely mediates CBT for depression in whatever manner it is achieved through cognitive restructuring behavioral activation and so forth.\"\\n\"Cognitive change is generally viewed as a mediator of change in CBT for depression regardless of the method of cognitive change achieved through cognitive restructuring behavioral activation and so forth.\"\\n\\nMain Ideas:\\n- Cognitive Behavioral Therapy (CBT) is effective for treating anxiety and depression. \\n- Fear extinction is the type of learning that takes place during CBT for anxiety disorders. \\n- Cognitive change is the most researched mediator of CBT for depression. \\n- Cognitive change is likely a broad construct that is achieved through cognitive restructuring, behavioral activation, and other processes. \\n\\nPassages: \\n\"In this article the authors seek to summarize the core mechanisms of cognitive behavioral therapies CBTs Core mechanisms of CBT include the specific psychological factors responsible for symptom improvement with therapy The authors do not discuss nonspecific factors that can also be therapeutic such as expectancy credibility and therapeutic alliance.\"\\n\\n\"Many more recent studies meet criteria 1 through 6 However studies meeting criteria 7 remain limited 31 These criteria are not without limitations For example if mediators need to be theory driven criteria 1 the strength of the literature depends on the strength of the theory Thus if the actual mechanism of change is not theorized or measured it will remain undetected with this approach Nevertheless this approach has been fruitful to date Many mediators of CBT have been proposed eg self efficacy 32 emotional processing theory fear network modification33 However most can be roughly collapsed into either behavioral34 or cognitive35 processes\"\\n\\n\"Cognitive change is generally viewed as a mediator of change in CBT for depression regardless of the method of cognitive change achieved through cognitive restructuring behavioral activation and so forth This notion that the method of cognitive change is less important than the fact that it occurs is supported by several studies 58 A meta analysis of cognitive change as a mediator of CBT for depression showed that cognitive change mediates change in depression regardless of the method employed 15 Thus cognitive change may be a central mediator of CBT for depression regardless of the method used to achieve it\"\\n\\nare not mutually exclusive and both likely play an important role in treatment response In depression the evidence suggests that cognitive change mediates treatment response But it is not clear which particular cognitive processes are most impor tant However at this point the evidence suggests that it is the process of change not the particular content of the change that is the most important factor Direct Quotes\\n\"As stated research on extinction as a mechanism of change produced several augmentation suggestions to improve CBT for anxiety disorders 50 57\"\\n\"The authors included studies that 1 investigated the threat reappraisal mediation hypothesis 2 included adults with and anxiety disorder and 3 included a longitudinal design\"\\n\"Patients are expected to make their threat predictions explicit both likelihood and cost estimations They are then encouraged to attend to and evaluate these predictions during and after exposure trials\"\\n\"CBT seeks to target these faulty threat appraisals through exposure and cognitive restructuring\"\\n\"Thus threat reappraisal is a proposed mediator for the efficacy of CBT in anxiety disorders 42\"\\n\"There is debate whether this should be considered a new wave of CBT or simply the continued refocus away from immediate anxiety reduction in favor of long term improved quality of life 104\"\\n\"Central to the theory was the role of inaccurate beliefs and maladaptive information processing repetitive negative thinking\"\\n\"Cognitive change also predicts lower relapse rates 111 114\"\\n\"Cognitive change is important in CBT for depression in whatever manner it is achieved\"\\n\"It is not clear which particular cognitive processes are most important\"\\n\"At this point the evidence suggests that it is the process of change not the particular content of the change that is the most important factor\"\\n\\nMain Ideas:\\n1. Extinction is a mechanism of change to help improve CBT for anxiety disorders.\\n2. Threat reappraisal is a proposed mediator for the efficacy of CBT in anxiety disorders.\\n3. Recent treatments for anxiety disorders focus on function and adaptive value guided behavior.\\n4. Cognitions figure prominently in the research and treatment literature for depression.\\n5. Cognitive change mediates treatment response for depression.\\n6. It is the process of change, not the particular content, that is most important in CBT.\\n\\nke MG Newman MG Castonguay LG et al Cognitive behavioral therapy for anxiety disorders in adults an evidence based review J Clin Psychiatry 2008 69 848 58\\n\\nDirect Quotes:\\n\"The most researched psychological mechanism in CBT for depression is cognitive change\"\\n\"Cognitive change is important in CBT for both anxiety and depression in whatever manner it is achieved\"\\n\"It may be that cognitive change is important and one of the best ways to convince someone to change their mind is through giving them experience exposure behavioral experiments\"\\n\"Understanding how and why psychotherapy leads to change\"\\nMain Ideas:\\nCognitive change is an important psychological mechanism in CBT for both anxiety and depression.\\nExposure and behavioral interventions are effective cognitive therapy techniques.\\nCognitive behavioral therapy is an effective treatment for anxiety and depression.\\nPassages: \\n\"Across anxiety and depression there is agreement that the limbic system and prefrontal cortex are intricately involved in the process of change. Cognitive change is observed in both antidepressant and CBT interventions. It is also observed in both cognitive cognitive restructuring and behavioral behavioral activation therapies. Overall cognitive change is important in CBT for both anxiety and depression in whatever manner it is achieved. It may be that cognitive change is important and one of the best ways to convince someone to change their mind is through giving them experience exposure behavioral experiments. Thus exposure and behavioral interventions may be very good cognitive therapy.\" \\n\"Kazdin (2001) proposed that progression of therapy research and clinical application of treatment require better understanding of the change process. Rounsaville et al. (2001) also proposed a stage model of behavioral therapies research, getting started and moving from stage I. Hofmann (2007) proposed that common misconceptions about cognitive mediation of treatment change should be taken into account. Smits et al. (2004) proposed the fear of fear mediational hypothesis in cognitive behavioral treatment of panic disorder. Smits et al. (2012) proposed that threat reappraisal might be a mediator of symptom change in cognitive behavioral treatment of anxiety disorders.\"\\n\\nit Brain Res 2010 1347 130 40 98 Bouton ME The renewal of extinguished fear respons es implications for exposure therapy Behav Ther 2003 34 517 29 99 Bouton ME Context and behavioral processes in extinction Learning Mem 2002 9 263 75\\n\\nDirect Quotes:\\n“Prediction error and trace dominance determine the fate of fear memories after post training manipulations” (Alfei et al., 2015)\\n“Classical fear conditioning in the anxiety disorders a meta analysis” (Lissek et al., 2005)\\n“The key role of extinction learning in anxiety disorders behavioral strategies to enhance exposure based treatments” (Pittig et al., 2015)\\n“Sleep enhances exposure therapy” (Kleim et al., 2014)\\n“Exposure treatment in multiple contexts attenuates return of fear via renewal in high spider fearful individuals” (Dunsmoor et al., 2015)\\n“Beyond extinction habituation eliminates conditioned skin conductance across contexts” (Haesen et al., 2015)\\n“The effect of positive mood induction on reducing reinstatement fear relevance for long term outcomes of exposure therapy” (Zbozinek et al., 2015)\\n\\nMain Ideas:\\nMaximizing exposure therapy can be achieved by utilizing an inhibitory learning approach.\\nMechanisms of fear extinction involve reducing the trace dominance of retrieved memories.\\nClassical fear conditioning in anxiety disorders can be studied through a meta-analysis.\\nExtinction learning plays a key role in enhancing exposure-based treatments.\\nInhibitory learning approaches to exposure therapy can reduce symptoms of anxiety disorders.\\nSleep and positive mood induction can reduce fear reinstatement and enhance exposure therapy.\\nMultiple contexts and stimuli exposure can be used to facilitate fear extinction.\\nExposure therapy can be augmented with drugs such as D-cycloserine.\\n\\nQuotes:\\n\\n1. \"Does habituation matter? Emotional processing theory and exposure therapy for acrophobia\" (Baker et al., 2010).\\n\\n2. \"Emotional variability and sustained arousal during exposure\" (Culver et al., 2012).\\n\\n3. \"Acceptance and commitment therapy: a meta-analytic review\" (Powers et al., 2009).\\n\\n4. \"A meta-analysis of the efficacy of acceptance and commitment therapy for clinically relevant mental and physical health problems\" (Tjak et al., 2015).\\n\\n5. \"Acceptance and mindfulness-based therapy: new wave or old hat?\" (Hofmann & Asmundson, 2008).\\n\\nMain Ideas:\\n\\n1. Compound stimulus presentation can lead to deeper extinction (Rescorla, 2013).\\n\\n2. Habituation is an important factor in emotional processing theory and exposure therapy for acrophobia (Baker et al., 2010).\\n\\n3. Variability in exposure therapy for contamination fears is a challenge to the traditional exposure paradigm (Kircanski et al., 2012).\\n\\n4. Acceptance and commitment therapy has been found to be effective in a meta-analytic review (Powers et al., 2009).\\n\\n5. Cognitive therapy of depression has been found to be effective in reducing relapse risk (Strunk et al., 2007).\\n\\nPassages:\\n\\n1. \"Rescorla (2013) found that compound stimulus presentation can lead to deeper extinction.\"\\n\\n2. \"Baker et al. (2010) concluded that habituation is an important factor in emotional processing theory and exposure therapy for acrophobia.\"\\n\\n3. \"Kircanski et al. (2012) identified challenges to the traditional exposure paradigm in exposure therapy for contamination fears.\"\\n\\n4. \"Powers et al. (2009) conducted a meta-analytic review and found that acceptance and commitment therapy is effective.\"\\n\\n5. \"Strunk et al. (2007) found that cognitive therapy of depression is effective in reducing relapse risk.\"\\n\\n'},\n",
       "  {'role': 'assistant',\n",
       "   'content': 'Cognitive Behavioral Therapy (CBT) is an effective treatment for anxiety and depression, with fear extinction being the primary learning mechanism for anxiety disorders. Cognitive change, achieved through cognitive restructuring, behavioral activation, and other processes, is the most researched mediator of CBT for depression. Additionally, cognitive change is important in CBT for both anxiety and depression, regardless of the method used to achieve it. Extinction learning plays a crucial role in enhancing exposure-based treatments, while sleep and positive mood inductions can reduce fear reinstatement and improve exposure therapy. Acceptance and commitment therapy has also been found to be effective in treating mental and physical health problems. Overall, the process of change, rather than the specific content of the change, is the most important factor in CBT.'}],\n",
       " 'model': 'gpt-4',\n",
       " 'temperature': 0.7,\n",
       " 'tokens': 2500}"
      ]
     },
     "execution_count": 13,
     "metadata": {},
     "output_type": "execute_result"
    }
   ],
   "source": [
    "data"
   ]
  }
 ],
 "metadata": {
  "kernelspec": {
   "display_name": "venv",
   "language": "python",
   "name": "python3"
  },
  "language_info": {
   "codemirror_mode": {
    "name": "ipython",
    "version": 3
   },
   "file_extension": ".py",
   "mimetype": "text/x-python",
   "name": "python",
   "nbconvert_exporter": "python",
   "pygments_lexer": "ipython3",
   "version": "3.9.9"
  },
  "orig_nbformat": 4
 },
 "nbformat": 4,
 "nbformat_minor": 2
}
