{
 "cells": [
  {
   "cell_type": "code",
   "execution_count": 4,
   "metadata": {},
   "outputs": [],
   "source": [
    "from dotenv import load_dotenv\n",
    "import os\n",
    "load_dotenv(\"../.env\")\n",
    "api_key = os.environ.get('OPENAI-API-KEY')"
   ]
  },
  {
   "cell_type": "code",
   "execution_count": 5,
   "metadata": {},
   "outputs": [],
   "source": [
    "from langchain.embeddings.openai import OpenAIEmbeddings\n",
    "from langchain.text_splitter import CharacterTextSplitter\n",
    "from langchain.docstore.document import Document\n",
    "from langchain.prompts import PromptTemplate\n",
    "from langchain.document_loaders import PyMuPDFLoader\n",
    "from langchain.llms import OpenAI\n",
    "from operator import itemgetter\n",
    "import numpy as np\n",
    "import tiktoken\n",
    "from langchain.prompts import BasePromptTemplate\n",
    "from pydantic import BaseModel, validator\n",
    "from langchain.chains import LLMChain\n",
    "from langchain.chains.base import Chain\n",
    "\n",
    "from typing import List, Dict, Tuple"
   ]
  },
  {
   "attachments": {},
   "cell_type": "markdown",
   "metadata": {},
   "source": [
    "# Functions"
   ]
  },
  {
   "cell_type": "code",
   "execution_count": 6,
   "metadata": {},
   "outputs": [],
   "source": [
    "# this prevents the metadata from being None which causes errors with the vectorstore\n",
    "def sanitize_metadata(data):\n",
    "    for item in data:\n",
    "        meta = item.metadata\n",
    "        for key, value in meta.items():\n",
    "            if value is None:\n",
    "                meta[key] = \"\"\n",
    "    return data\n",
    "\n",
    "def unpack (data):\n",
    "    return [{'page' : idx + 1, 'content' : page.page_content, 'metadata' : page.metadata} for idx, page in enumerate(data)]\n",
    "\n",
    "def dot_product_similarity(doc_data: List[Dict], query_data: Dict) -> List[Tuple[int, float]]:\n",
    "    query_embedding = query_data['embedding']\n",
    "    doc_embeddings = [page['embedding'] for page in doc_data]\n",
    "    tuples_list = [(page['page'], np.dot(query_embedding, embedding)) for page, embedding in zip(doc_data, doc_embeddings)]\n",
    "    ordered_tuples = sorted(tuples_list, key=itemgetter(1), reverse=True)\n",
    "    top_five_tuples = ordered_tuples[:5]\n",
    "    return top_five_tuples\n",
    "\n",
    "def embed_query(query: str):\n",
    "    base_embeddings = OpenAIEmbeddings()\n",
    "    embedding = base_embeddings.embed_query(query)\n",
    "    return {\"query\" : query, \"embedding\" : embedding}\n",
    "\n",
    "def embed_doc(text_list : List[str]):\n",
    "    base_embeddings = OpenAIEmbeddings()\n",
    "    doc_embeddings = base_embeddings.embed_documents(text_list)\n",
    "    return doc_embeddings\n",
    "\n",
    "def get_context(query_data, doc_data: List[Dict]) -> List[Dict]:\n",
    "    top_five_tuples = dot_product_similarity(doc_data, query_data)\n",
    "    context = []\n",
    "    for item in top_five_tuples:\n",
    "        page = item[0]\n",
    "        data = {'page': page, 'similarity' : item[1], 'text': doc_data[page - 1]['content'], 'metadata' : doc_data[page - 1]['metadata']}\n",
    "        context.append(data)\n",
    "    return context\n",
    "\n",
    "def get_tokens(string: str, model: str) -> int:\n",
    "    \"\"\"Returns the number of tokens in a text string.\"\"\"\n",
    "    encoding = tiktoken.encoding_for_model(model)\n",
    "    num_tokens = len(encoding.encode(string))\n",
    "    return num_tokens\n",
    "\n",
    "def format_context(context: List[Dict], model: str, token_limit : int) -> str:\n",
    "    \"\"\"Returns a string of the first 1024 tokens of the context.\"\"\"\n",
    "    context_string = \"\"\n",
    "    meta_list = []\n",
    "    encoding = tiktoken.encoding_for_model(model)\n",
    "    for idx, item in enumerate(context):\n",
    "        sanitized_text = item['text'].replace(\"\\n\", \" \")\n",
    "        context_string += f\"Page: {item['page']}\\n\\nText: {sanitized_text}\\n\\n\"\n",
    "        meta_list.append(item['metadata'])\n",
    "        tokens = get_tokens(context_string, model)\n",
    "        if tokens > token_limit:\n",
    "            encoded_text = encoding.encode(context_string)\n",
    "            # cut it down to the token limit\n",
    "            encoded_text = encoded_text[:token_limit]\n",
    "            # decode it back to a string\n",
    "            context_string = encoding.decode(encoded_text)\n",
    "            # some testing to make sure it worked\n",
    "            tokens = get_tokens(context_string, model)\n",
    "            assert tokens <= token_limit, f\"format context function failed to cut context down far enough. tokens: {tokens}\"\n",
    "            break\n",
    "    return context_string, meta_list\n",
    "\n",
    "class DocQAPromptTemplate(BasePromptTemplate, BaseModel):\n",
    "    \"\"\" A custom prompt template that takes a query and document data, and formats the prompt template to provide the formatted context + query to the language model. \"\"\"\n",
    "    @validator(\"input_variables\")\n",
    "    def validate_input_variables(cls, v):\n",
    "        \"\"\" Validate that the input variables are correct. \"\"\"\n",
    "        if len(v) != 2:\n",
    "            raise ValueError(\"DocQAPromptTemplate must have two input variables: query and context.\")\n",
    "        return v\n",
    "    \n",
    "    def format(self, query, formatted_context) -> str:\n",
    "        # Get the source code of the function\n",
    "        instruction = \"Answer the query with a lengthy, deatiled reponse, to the best of your ability based on the provided context. If the question isn't relevant to the context, tell me that and briefly describe the context.\"\n",
    "        # Generate the prompt to be sent to the language model\n",
    "        prompt = f\"INSTRUCTION:\\n{instruction}\\n\\nCONTEXT:\\n{formatted_context}\\n\\nQUERY:\\n{query}\\n\\nOUTPUT:\\n\"\n",
    "        return prompt\n",
    "    \n",
    "    def _prompt_type(self):\n",
    "        return \"doc context + query\""
   ]
  },
  {
   "cell_type": "code",
   "execution_count": 7,
   "metadata": {},
   "outputs": [],
   "source": [
    "def upload_doc(fpath):\n",
    "    loader = PyMuPDFLoader(fpath)\n",
    "    # load the data\n",
    "    unsanitized = loader.load()\n",
    "    # make sure the metadata is not None\n",
    "    data = sanitize_metadata(unsanitized)\n",
    "\n",
    "    # get the doc embeddings\n",
    "    doc_embeddings = embed_doc([page.page_content for page in data])\n",
    "\n",
    "    # unpack the data and add the embeddings\n",
    "    mongodoc = unpack(data)\n",
    "    mongodoc = [{**page, \"embedding\": embedding} for page, embedding in zip(mongodoc, doc_embeddings)]\n",
    "    \n",
    "    return mongodoc"
   ]
  },
  {
   "cell_type": "code",
   "execution_count": 8,
   "metadata": {},
   "outputs": [],
   "source": [
    "def query_doc(query: str, mongodoc: List[Dict], model: str, token_limit: int):\n",
    "    # embed the query\n",
    "    query_data = embed_query(query)\n",
    "    # get the context\n",
    "    context = get_context(query_data, mongodoc)\n",
    "    # format the context\n",
    "    formatted_context, meta_list = format_context(context, model, token_limit)\n",
    "    # format the prompt\n",
    "    prompt_template = DocQAPromptTemplate(input_variables=[\"query\", \"formatted_context\"])\n",
    "    prompt = prompt_template.format(query, formatted_context)\n",
    "    # query the language model\n",
    "    llm = OpenAI(temperature=0.7)\n",
    "    response = llm(prompt)\n",
    "    # return the response, the metadata, and the context\n",
    "    return response, meta_list, context"
   ]
  },
  {
   "cell_type": "code",
   "execution_count": 9,
   "metadata": {},
   "outputs": [],
   "source": [
    "def generate_prompt(query: str, mongodoc: List[Dict], model: str, token_limit: int):\n",
    "    # embed the query\n",
    "    query_data = embed_query(query)\n",
    "    # get the context\n",
    "    context = get_context(query_data, mongodoc)\n",
    "    # format the context\n",
    "    formatted_context, meta_list = format_context(context, model, token_limit)\n",
    "    return formatted_context, meta_list"
   ]
  },
  {
   "cell_type": "code",
   "execution_count": 10,
   "metadata": {},
   "outputs": [],
   "source": [
    "class DocQAAutoPromptTemplate(BasePromptTemplate, BaseModel):\n",
    "    \"\"\" A custom prompt template that takes a query and document data, and formats the prompt template to provide the formatted context + query to the language model. \"\"\"\n",
    "    @validator(\"input_variables\")\n",
    "    def validate_input_variables(cls, v):\n",
    "        \"\"\" Validate that the input variables are correct. \"\"\"\n",
    "        if len(v) != 4:\n",
    "            raise ValueError(\"DocQAPromptTemplate must have two input variables: query and context.\")\n",
    "        return v\n",
    "    \n",
    "    def format(self, query, mongodoc, model, token_limit) -> str:\n",
    "        formatted_context, _ = generate_prompt(query, mongodoc, model, token_limit)\n",
    "        # Get the source code of the function\n",
    "        instruction = \"Answer the query with a lengthy, detailed reponse, to the best of your ability based on the provided context. If the question isn't relevant to the context, tell me that and briefly describe the context.\"\n",
    "        # Generate the prompt to be sent to the language model\n",
    "        prompt = f\"INSTRUCTION:\\n{instruction}\\n\\nCONTEXT:\\n{formatted_context}\\n\\nQUERY:\\n{query}\\n\\nOUTPUT:\\n\"\n",
    "        return prompt\n",
    "    \n",
    "    def _prompt_type(self):\n",
    "        return \"doc context + query\""
   ]
  },
  {
   "attachments": {},
   "cell_type": "markdown",
   "metadata": {},
   "source": [
    "# Main"
   ]
  },
  {
   "cell_type": "code",
   "execution_count": 11,
   "metadata": {},
   "outputs": [],
   "source": [
    "fpath = \"../data/powers2017.pdf\"\n",
    "\n",
    "loader = PyMuPDFLoader(fpath)\n",
    "# load the data\n",
    "unsanitized = loader.load()\n",
    "# make sure the metadata is not None\n",
    "data = sanitize_metadata(unsanitized)\n",
    "\n",
    "# get the doc embeddings\n",
    "doc_embeddings = embed_doc([page.page_content for page in data])\n",
    "\n",
    "# unpack the data and add the embeddings\n",
    "mongodoc = unpack(data)\n",
    "mongodoc = [{**page, \"embedding\": embedding} for page, embedding in zip(mongodoc, doc_embeddings)]"
   ]
  },
  {
   "cell_type": "code",
   "execution_count": 12,
   "metadata": {},
   "outputs": [],
   "source": [
    "query = \"What is the purpose of this study?\"\n",
    "model = \"text-davinci-003\"\n",
    "token_limit = 2800"
   ]
  },
  {
   "cell_type": "code",
   "execution_count": 19,
   "metadata": {},
   "outputs": [
    {
     "name": "stdout",
     "output_type": "stream",
     "text": [
      "Page: 12\n",
      "\n",
      "Text: 91. Baird SO, Rinck M, Rosenfield D, et al. Reducing approach bias to achieve smoking cessation: a pilot randomized placebo-controlled trial. Cogn Ther Res 2017;1–9. http://dx.doi.org/10.1007/s10608-017-9835-z. 92. Cristea IA, Kok RN, Cuijpers P. Efficacy of cognitive bias modification interven- tions in anxiety and depression: meta-analysis. Br J Psychiatry 2015;206:7–16. 93. Linetzky M, Pergamin-Hight L, Pine DS, et al. Quantitative evaluation of the clin- ical efficacy of attention bias modification treatment for anxiety disorders. Depress Anxiety 2015;32:383–91. 94. MacLeod C, Grafton B. Anxiety-linked attentional bias and its modification: illus- trating the importance of distinguishing processes and procedures in experi- mental psychopathology research. Behav Res Ther 2016;86:68–86. 95. Woody SR, Whittal ML, McLean PD. Mechanisms of symptom reduction in treat- ment for obsessions. J Consult Clin Psychol 2011;79:653–64. 96. Plendl W, Wotjak CT. Dissociation of within- and between-session extinction of conditioned fear. J Neurosci 2010;30:4990–8. 97. Prenoveau JM, Craske MG, Liao B, et al. Human fear conditioning and extinc- tion: timing is everything. or is it? Biol Psychol 2013;92:59–68. 98. Rescorla RA. Deepened extinction from compound stimulus presentation. J Exp Psychol 2006;32:135–44. 99. Baker A, Mystkowski J, Culver N, et al. Does habituation matter? Emotional pro- cessing theory and exposure therapy for acrophobia. Behav Res Ther 2010;48: 1139–43. 100. Culver NC, Stoyanova M, Craske MG. Emotional variability and sustained arousal during exposure. J Behav Ther Exp Psychiatry 2012;43:787–93. 101. Kircanski K, Mortazavi A, Castriotta N, et al. Challenges to the traditional expo- sure paradigm: variability in exposure therapy for contamination fears. J Behav Ther Exp Psychiatry 2012;43:745–51. 102. Powers MB, Zum Vorde Sive Vording MB, Emmelkamp PMG. Acceptance and commitment therapy: a meta-analytic review. Psychother Psychosom 2009;78: 73–80. 103. A-Tjak JG, Davis ML, Morina N, et al. A meta-analysis of the efficacy of accep- tance and commitment therapy for clinically relevant mental and physical health problems. Psychother Psychosom 2015;84:30–6. 104. Hofmann SG, Asmundson GJG. Acceptance and mindfulness-based therapy: new wave or old hat? Clin Psychol Rev 2008;28:1–16. 105. Hofmann SG, Sawyer AT, Fang A. The empirical status of the ‘new wave’ of CBT. Psychiatr Clin North Am 2010;33:701–10. 106. Beck AT. Cognitive therapy of depression. New York: Guilford Press; 1979. 107. Imber SD, Pilkonis PA, Sotsky SM, et al. Mode-specific effects among three treatments for depression. J Consult Clin Psychol 1990;58:352–9. 108. Simons AD, Garfield SL, Murphy GE. The process of change in cognitive ther- apy and pharmacotherapy for depression. Changes in mood and cognition. Arch Gen Psychiatry 1984;41:45–51. 109. Hollon SD, DeRubeis RJ, Evans MD. Causal mediation of change in treatment for depression: discriminating between nonspecificity and noncausality. Psychol Bull 1987;102:139–49. 110. DeRubeis RJ, Evans MD, Hollon SD, et al. How does cognitive therapy work? Cognitive change and symptom change in cognitive therapy and pharmaco- therapy for depression. J Consult Clin Psychol 1990;58:862–9. Powers et al 622 \n",
      "\n",
      "Page: 8\n",
      "\n",
      "Text: 12. Wolitzky-Taylor KB, Horowitz JD, Powers MB, et al. Psychological approaches in the treatment of specific phobias: a meta-analysis. Clin Psychol Rev 2008;28: 1021–37. 13. Powers MB, Sigmarsson SR, Emmelkamp PMGA. Meta-analytic review of psy- chological treatments for social anxiety disorder. Int J Cogn Ther 2008;1: 94–113. 14. Olatunji BO, Kauffman BY, Meltzer S, et al. Cognitive-behavioral therapy for hy- pochondriasis/health anxiety: a meta-analysis of treatment outcome and moder- ators. Behav Res Ther 2014;58:65–74. 15. Cuijpers P, Berking M, Andersson G, et al. A meta-analysis of cognitive- behavioural therapy for adult depression, alone and in comparison with other treatments. Can J Psychiatry 2013;58:376–85. 16. Hofmann SG, Asnaani A, Vonk IJJ, et al. The efficacy of cognitive behavioral therapy: a review of meta-analyses. Cogn Ther Res 2012;36:427–40. 17. Barlow DH, Gorman JM, Shear MK, et al. Cognitive-behavioral therapy, imipra- mine, or their combination for panic disorder: a randomized controlled trial. JAMA 2000;283:2529–36. 18. Borkovec TD, Costello E. Efficacy of applied relaxation and cognitive-behavioral therapy in the treatment of generalized anxiety disorder. J Consult Clin Psychol 1993;61:611–9. 19. Davidson JRT, Foa EB, Huppert JD, et al. Fluoxetine, comprehensive cognitive behavioral therapy, and placebo in generalized social phobia. Arch Gen Psychi- atry 2004;61:1005–13. 20. Foa EB, Liebowitz MR, Kozak MJ, et al. Randomized, placebo-controlled trial of exposure and ritual prevention, clomipramine, and their combination in the treat- ment of obsessive-compulsive disorder. Am J Psychiatry 2005;162:151–61. 21. Kazdin A. Progression of therapy research and clinical application of treatment require better understanding of the change process. Clin Psychooogy Sci Pract 2001;8:143–51. 22. Rounsaville BJ, Carroll KM, Onken LS. A stage model of behavioral therapies research: Getting started and moving from stage 11. Clin Psychol Sci Pract 2001;8:133–42. 23. Hofmann SG. Common misconceptions about cognitive mediation of treatment change: a commentary to Longmore and Worrell (2007). Clin Psychol Rev 2008; 28:67–70. 24. Hofmann SG, Meuret AE, Rosenfield D, et al. Preliminary evidence for cognitive mediation during cognitive-behavioral therapy of panic disorder. J Consult Clin Psychol 2007;75:374–9. 25. Smits JAJ, Powers MB, Cho Y, et al. Mechanism of change in cognitive- behavioral treatment of panic disorder: evidence for the fear of fear mediational hypothesis. J Consult Clin Psychol 2004;72:646–52. 26. Baron RM, Kenny DA. The moderator-mediator variable distinction in social psy- chological research: conceptual, strategic, and statistical considerations. J Pers Soc Psychol 1986;51:1173–82. 27. Maxwell SE, Cole DA. Bias in cross-sectional analyses of longitudinal mediation. Psychol Methods 2007;12:23–44. 28. Kraemer HC, Wilson GT, Fairburn CG, et al. Mediators and moderators of treat- ment effects in randomized clinical trials. Arch Gen Psychiatry 2002;59:877–83. 29. Kraemer HC, Kiernan M, Essex M, et al. How and why criteria defining moder- ators and mediators differ between the Baron & Kenny and MacArthur ap- proaches. Health Psychol 2008;27:S101–8. Powers et al 618 \n",
      "\n",
      "Page: 6\n",
      "\n",
      "Text: There is some debate on whether the authors should even measure fear during treatment sessions because this sends a message that it must be dangerous.87 How- ever, it would difficult to convince a patient that they do not intend to reduce the very symptom they are presenting with for treatment. Rather, one way of presenting this rationale is to say that, at least during the course of treatment, the goal is not to win the war but rather to stop fighting. However, an important follow-up is to state that when one stops fighting during the course of treatment, the war eventually ceases (and the patient has achieved his treatment goals). Similarly, with anxiety, once one no longer finds anxiety threatening, it too eventually goes away. This second part of the message is often neglected in clinical and research settings. DEPRESSION: COGNITIVE MECHANISMS Cognitions figure prominently in the research and treatment literature for depression. Not surprisingly, cognitive change is the most researched mediator of CBT for depres- sion. Beck106 first developed a comprehensive theory of the cause and maintaining fac- tors for major depression. Central to the theory was the role of inaccurate beliefs and maladaptive information processing (repetitive negative thinking). The cognitive model suggests that when these errors in thinking are corrected (cognitive change) that depression lessens and the likelihood of relapse is reduced. Interestingly, early studies suggested both antidepressants and CBT produced similar levels of cognitive change. However, careful follow-up studies and analysis showed that cognitive changes pre- cede symptom improvement in CBT but not in the medication conditions.107–110 For example, DeRubeis and colleagues110 randomized outpatients with major depression to CBT or pharmacotherapy and measured cognitions and symptoms at pretreatment, mid treatment, and at posttreatment (week 12). They found that changes from pretreat- ment to mid treatment on cognitive measures (the Automatic Thoughts Questionnaire, Dysfunctional Attitudes Scale, and the Hopelessness Scale) significantly predicted change in depression from mid treatment to posttreatment. Cognitive change also pre- dicts lower relapse rates.111–114 Teasdale and colleagues112 examined how cognitive therapy prevented relapse among 158 patients with residual depression. They found that relapse was reduced by reductions in absolute, dichotomous thinking styles. In an attempt to further determine the specificity of cognitive change, Jacobson and col- leagues115 conducted a dismantling study randomizing patients to behavioral activa- tion alone, behavioral activation plus modification of automatic thoughts, or behavioral activation with modification of both automatic thoughts and schemas. Over- all, they found the 3 treatments were equally efficacious. Their data also suggested that cognitive change was important but not differentially affected by the different treat- ments as one might expect. Thus, cognitive change is important in CBT for depression in whatever manner it is achieved. Finally, research on “sudden gains” in depression further supports the role of cognitive change as a mediator. Sudden gains refers to a relatively sudden drop in depressive symptoms during CBT (an average drop of 11 points on the Beck Depression Inventory that occurs between sessions 4 and 8 in approximately 30%–50% of patients).116–120 Importantly, Tang and colleagues116,118 found that cognitive change predicted sudden gains. In 2 studies, they found more cognitive change in the sessions preceding sudden gains relative to other control ses- sions in the same patients. SUMMARY There have been great strides in the development of effective treatments for anxiety and depression. However, a substantial minority of patients do not respond or do Powers et al 616 \n",
      "\n",
      "Page: 2\n",
      "\n",
      "Text: mechanisms of change in CBT for anxiety and related disorders, including extinction and threat reappraisal. Finally, they cover cognitive change as the most researched mediator of CBT for depression. CBTs are a family of treatments that share a common focus on affect, behaviors, and cognitions. For the purpose of this article, the authors simply refer to the entire group of interventions as CBT. Meta-analyses of randomized controlled trials show CBT is effec- tive for anxiety9–14 and depression.15,16 Unfortunately, a substantial minority of patients do not respond to CBT. For example, in several studies nonresponse rates for panic dis- order, obsessive-compulsive disorder, and social anxiety disorder were 36%, 38%, and 49%, respectively.17–20 Treatment development guidelines state that improving in- terventions requires a better understanding of the change process.21,22 Thus, CBT re- searchers are seeking to identify core mechanisms of change (treatment mediators) in an effort to develop effective augmentation strategies or new interventions.23–25 Mediators are variables that can explain why or how a treatment works, and they are measured at least at pretreatment and posttreatment. Early analysis strategies (Fig. 1) suggested mediation if (1) the treatment-\n"
     ]
    }
   ],
   "source": [
    "query_data = embed_query(query)\n",
    "context = get_context(query_data, mongodoc)\n",
    "formatted_context, meta_list = format_context(context, model, token_limit)\n",
    "print(formatted_context)"
   ]
  },
  {
   "cell_type": "code",
   "execution_count": 13,
   "metadata": {},
   "outputs": [],
   "source": [
    "prompt_template = DocQAAutoPromptTemplate(input_variables=[\"query\", \"mongodoc\", \"model\", \"token_limit\"])\n",
    "second_prompt = PromptTemplate(\n",
    "    input_variables=[\"section\"],\n",
    "    template=\"What is the {section} of this study?\",\n",
    ")\n",
    "\n",
    "llm = OpenAI(temperature=0.9)"
   ]
  },
  {
   "cell_type": "code",
   "execution_count": 14,
   "metadata": {},
   "outputs": [],
   "source": [
    "chain = LLMChain(llm=llm, prompt=prompt_template)\n",
    "chain_two = LLMChain(llm=llm, prompt=second_prompt)"
   ]
  },
  {
   "cell_type": "code",
   "execution_count": 15,
   "metadata": {},
   "outputs": [],
   "source": [
    "class ConcatenateChain(Chain):\n",
    "    chain_1: LLMChain\n",
    "    chain_2: LLMChain\n",
    "\n",
    "    @property\n",
    "    def input_keys(self) -> List[str]:\n",
    "        # Union of the input keys of the two chains.\n",
    "        all_input_vars = set(self.chain_1.input_keys).union(set(self.chain_2.input_keys))\n",
    "        return list(all_input_vars)\n",
    "\n",
    "    @property\n",
    "    def output_keys(self) -> List[str]:\n",
    "        return ['concat_output']\n",
    "\n",
    "    def _call(self, inputs: Dict[str, str]) -> Dict[str, str]:\n",
    "        output_1 = self.chain_1.run(inputs)\n",
    "        output_2 = self.chain_2.run(inputs)\n",
    "        return {'concat_output': output_1 + output_2}"
   ]
  },
  {
   "cell_type": "code",
   "execution_count": 16,
   "metadata": {},
   "outputs": [],
   "source": [
    "concat_chain = ConcatenateChain(chain_1=chain, chain_2=chain_two)"
   ]
  },
  {
   "cell_type": "code",
   "execution_count": 17,
   "metadata": {},
   "outputs": [],
   "source": [
    "concat_output = concat_chain.run(query=query, mongodoc=mongodoc, model=model, token_limit=token_limit, section=\"purpose\")"
   ]
  },
  {
   "cell_type": "code",
   "execution_count": 18,
   "metadata": {},
   "outputs": [
    {
     "name": "stdout",
     "output_type": "stream",
     "text": [
      "This study seeks to identify core mechanisms of change (treatment mediators) in Cognitive Behavioral Therapy (CBT) for the treatment of anxiety and depression. CBT is a family of treatments that share a common focus on affect, behaviors, and cognitions, and meta-analyses of randomized controlled trials show CBT is effective in treating these disorders. However, a substantial minority of patients fail to respond to CBT. Thus, this study attempts to identify treatment mediators that could potentially be used as augmentation strategies or for creating new interventions for anxiety and depression.\n",
      "\n",
      "The purpose of this study is to examine the relationship between certain types of stress, personality traits, and academic performance. Specifically, we will be looking at how different levels of stress, introversion or extroversion, and individual's ability to cope with stress affects their academic success.\n"
     ]
    }
   ],
   "source": [
    "print(concat_output)"
   ]
  }
 ],
 "metadata": {
  "kernelspec": {
   "display_name": "venv",
   "language": "python",
   "name": "python3"
  },
  "language_info": {
   "codemirror_mode": {
    "name": "ipython",
    "version": 3
   },
   "file_extension": ".py",
   "mimetype": "text/x-python",
   "name": "python",
   "nbconvert_exporter": "python",
   "pygments_lexer": "ipython3",
   "version": "3.9.9"
  },
  "orig_nbformat": 4,
  "vscode": {
   "interpreter": {
    "hash": "d30dbc225a77f624d100d49fcf625dcab10209cefe14c68d9c5591ea408b94d7"
   }
  }
 },
 "nbformat": 4,
 "nbformat_minor": 2
}
