{
 "cells": [
  {
   "cell_type": "code",
   "execution_count": 1,
   "metadata": {},
   "outputs": [],
   "source": [
    "from dotenv import load_dotenv\n",
    "import os\n",
    "import sys\n",
    "load_dotenv(\".env\")\n",
    "sys.path.append(os.environ.get(\"PACKAGE_PATH\"))\n",
    "\n",
    "OPENAI_API_KEY = os.environ.get('OPENAI-API-KEY')\n",
    "import openai\n",
    "openai.api_key = OPENAI_API_KEY\n",
    "\n",
    "import time\n",
    "\n",
    "from package.document import Document\n",
    "from package.sync_chain_v3 import Chain\n",
    "from package.sync_api import ChatV2"
   ]
  },
  {
   "cell_type": "code",
   "execution_count": 2,
   "metadata": {},
   "outputs": [
    {
     "name": "stdout",
     "output_type": "stream",
     "text": [
      "Starting doc processing...\n",
      "\n",
      "Warning: gpt-3.5-turbo may change over time. Returning num tokens assuming gpt-3.5-turbo-0301.\n",
      "Doc processed in 1.24 seconds.\n"
     ]
    }
   ],
   "source": [
    "print(\"Starting doc processing...\\n\")\n",
    "start = time.perf_counter()\n",
    "fpath = \"/Users/beneverman/Documents/Coding/semantic-search/ai-summarizer/data/powers2017.pdf\"\n",
    "fpath = \"/Users/beneverman/Documents/Coding/semantic-search/ai-summarizer/data/Ophthalytics-Inc-CNN.pdf\"\n",
    "fpath = \"/Users/beneverman/Documents/Coding/semantic-search/ai-summarizer/data/handgun_suicide_ml.pdf\"\n",
    "doc = Document(fpath)\n",
    "doc.process_doc().get_chunks(\"gpt-3.5-turbo\", 1000)\n",
    "elapsed = time.perf_counter() - start\n",
    "\n",
    "print(f\"Doc processed in {elapsed:0.2f} seconds.\")"
   ]
  },
  {
   "cell_type": "code",
   "execution_count": 3,
   "metadata": {},
   "outputs": [
    {
     "name": "stdout",
     "output_type": "stream",
     "text": [
      "Starting summary generation...\n",
      "\n",
      "Warning: gpt-3.5-turbo may change over time. Returning num tokens assuming gpt-3.5-turbo-0301.\n",
      "Input token sizes: [1019, 1021, 1019, 1021, 1020, 1020, 1020, 1020, 1020, 1020, 695]\n",
      "Total input token size: 10895\n",
      "Batch generating summaries for all chunks...\n",
      "Summaries generated, aggregate length 140085 tokens.\n",
      "Summaries generated in 15.79 seconds.\n"
     ]
    }
   ],
   "source": [
    "print(\"Starting summary generation...\\n\")\n",
    "\n",
    "start = time.perf_counter()\n",
    "chain = Chain(doc, model=\"gpt-3.5-turbo\")\n",
    "chain.completion_summarize()\n",
    "elapsed = time.perf_counter() - start\n",
    "\n",
    "print(f\"Summaries generated in {elapsed:0.2f} seconds.\")"
   ]
  },
  {
   "cell_type": "code",
   "execution_count": 4,
   "metadata": {},
   "outputs": [
    {
     "name": "stdout",
     "output_type": "stream",
     "text": [
      "Adding summary: Main Ideas: \n",
      "1. Evidence suggests that limiting access to firearms among individuals at high risk of...\n",
      "Adding summary: the purchaser and dealer we calculated the number of other individuals in the DROS database who had ...\n",
      "Adding summary: Main Ideas: \n",
      "1. Analyses were performed from December 1 2020 to May 19 2022. \n",
      "2. We implemented Rand...\n",
      "Adding summary: RUC retailer type codes\n",
      "\n",
      "Main Ideas:\n",
      "The training set contained 3 483 475 transactions and 2295 fire...\n",
      "Adding summary: between sensitivity and specificity are context dependent and should be determined based on the spec...\n",
      "Adding summary: that suicides are more common in the spring and summer months 50\n",
      "Main Ideas:\n",
      "1. Possible interventio...\n",
      "Adding summary: Wellness Foundation during the conduct of the study Dr Wintemute reported receiving grants from the ...\n",
      "Adding summary: jamapsychiatry 2014 1781\n",
      "\n",
      "Main Ideas:\n",
      "\n",
      "1. Firearm Violence Research Center and other organizations c...\n",
      "Adding summary: 3 18 22\n",
      "\n",
      "Main Ideas:\n",
      "\n",
      "1. Machine learning can be used to predict future risk of suicidal ideation ba...\n",
      "Adding summary: Main Ideas:\n",
      "\n",
      "1. Imbalanced Learning Foundations, Algorithms, and Applications\n",
      "2. Beyond Accuracy: F-...\n",
      "Adding summary: Main Ideas:\n",
      "A review of recent research on suicide prediction models with recommendations for the wa...\n",
      "Aggregating summaries...\n",
      "Summary:\n",
      "\n",
      "Title: Predicting Firearm Suicide Risk: A Comprehensive Analysis of Machine Learning Approaches and Handgun Transaction Data\n",
      "\n",
      "Introduction:\n",
      "\n",
      "Firearm suicide is a significant public health concern, with evidence suggesting that limiting access to firearms among individuals at high risk of suicide can be an effective means of prevention. Identifying individuals at risk of suicide remains a challenge, but recent advancements in machine learning techniques have shown promise in improving prediction accuracy. This paper aims to explore the use of machine learning algorithms and administrative data from handgun transaction records to predict firearm suicide risk, offering a comprehensive perspective on the subject and providing insights for targeted interventions.\n",
      "\n",
      "Methods and Data:\n",
      "\n",
      "This study utilized California's Dealer's Record of Sale (DROS) database, containing nearly 5 million handgun transaction records, to develop a machine learning prediction algorithm. The primary analysis was performed between December 2020 and May 2022, employing Random Forest classification to predict firearm suicide within one year. The algorithm was evaluated using various performance measures, including area under the receiver operator characteristic curve (AUC), area under the precision-recall curve, sensitivity, specificity, F-score, and Youden index.\n",
      "\n",
      "Several important features were examined, such as known risk factors like older age at first purchase and previously unreported predictors like distance to firearms dealer and month of purchase. The study also investigated the use of the Rural Urban Continuum (RUC) model to include select features and categories, along with descriptive statistics to reveal patterns associated with firearm suicide transactions.\n",
      "\n",
      "Results:\n",
      "\n",
      "The algorithm, built with a training set of 3,483,475 transactions and 2,295 firearm suicides, achieved an AUC of 0.81. A default threshold of 0.50 yielded a sensitivity of 0.50 and specificity of 0.90. Optimizing the Youden index resulted in an algorithm sensitivity of 0.75 and specificity of 0.71. Approximately half of all firearm suicides within a year occurred among the top 2 ventiles of predicted risk, with the algorithm showing higher accuracy among transactions deemed extremely risky.\n",
      "\n",
      "Important variables included handgun category, purchaser age, month of the transaction, and distance between purchaser and dealer. Tradeoffs between true positives and false negatives were observed when selecting a threshold. Other notable findings included the association of firearm suicides with spring and summer months and the importance of firearm type in predicting suicide risk.\n",
      "\n",
      "Implications and Future Research:\n",
      "\n",
      "This study demonstrates the potential of machine learning algorithms, combined with administrative data on handgun transactions, in predicting firearm suicide risk. The results provide a basis for targeted interventions, such as providing suicide prevention information during the 10-day waiting period or prompting a letter from the Department of Justice. Additionally, the use of electronic health records and other supplementary data, such as substance use or mental health disorders, could further improve prediction accuracy.\n",
      "\n",
      "Further research could investigate the association between firearm dealer proximity and firearm acquisition and subsequent harms, as well as the effectiveness of regulating alcohol outlet density in reducing excessive alcohol consumption and related harms. Ultimately, this study highlights the potential of machine learning techniques and passively collected administrative data to inform targeted interventions and contribute to suicide prevention efforts.\n"
     ]
    }
   ],
   "source": [
    "data = chain.aggregate(chain.summaries)"
   ]
  },
  {
   "cell_type": "code",
   "execution_count": 5,
   "metadata": {},
   "outputs": [
    {
     "name": "stdout",
     "output_type": "stream",
     "text": [
      "Title: Predicting Firearm Suicide Risk: A Comprehensive Analysis of Machine Learning Approaches and Handgun Transaction Data\n",
      "\n",
      "Introduction:\n",
      "\n",
      "Firearm suicide is a significant public health concern, with evidence suggesting that limiting access to firearms among individuals at high risk of suicide can be an effective means of prevention. Identifying individuals at risk of suicide remains a challenge, but recent advancements in machine learning techniques have shown promise in improving prediction accuracy. This paper aims to explore the use of machine learning algorithms and administrative data from handgun transaction records to predict firearm suicide risk, offering a comprehensive perspective on the subject and providing insights for targeted interventions.\n",
      "\n",
      "Methods and Data:\n",
      "\n",
      "This study utilized California's Dealer's Record of Sale (DROS) database, containing nearly 5 million handgun transaction records, to develop a machine learning prediction algorithm. The primary analysis was performed between December 2020 and May 2022, employing Random Forest classification to predict firearm suicide within one year. The algorithm was evaluated using various performance measures, including area under the receiver operator characteristic curve (AUC), area under the precision-recall curve, sensitivity, specificity, F-score, and Youden index.\n",
      "\n",
      "Several important features were examined, such as known risk factors like older age at first purchase and previously unreported predictors like distance to firearms dealer and month of purchase. The study also investigated the use of the Rural Urban Continuum (RUC) model to include select features and categories, along with descriptive statistics to reveal patterns associated with firearm suicide transactions.\n",
      "\n",
      "Results:\n",
      "\n",
      "The algorithm, built with a training set of 3,483,475 transactions and 2,295 firearm suicides, achieved an AUC of 0.81. A default threshold of 0.50 yielded a sensitivity of 0.50 and specificity of 0.90. Optimizing the Youden index resulted in an algorithm sensitivity of 0.75 and specificity of 0.71. Approximately half of all firearm suicides within a year occurred among the top 2 ventiles of predicted risk, with the algorithm showing higher accuracy among transactions deemed extremely risky.\n",
      "\n",
      "Important variables included handgun category, purchaser age, month of the transaction, and distance between purchaser and dealer. Tradeoffs between true positives and false negatives were observed when selecting a threshold. Other notable findings included the association of firearm suicides with spring and summer months and the importance of firearm type in predicting suicide risk.\n",
      "\n",
      "Implications and Future Research:\n",
      "\n",
      "This study demonstrates the potential of machine learning algorithms, combined with administrative data on handgun transactions, in predicting firearm suicide risk. The results provide a basis for targeted interventions, such as providing suicide prevention information during the 10-day waiting period or prompting a letter from the Department of Justice. Additionally, the use of electronic health records and other supplementary data, such as substance use or mental health disorders, could further improve prediction accuracy.\n",
      "\n",
      "Further research could investigate the association between firearm dealer proximity and firearm acquisition and subsequent harms, as well as the effectiveness of regulating alcohol outlet density in reducing excessive alcohol consumption and related harms. Ultimately, this study highlights the potential of machine learning techniques and passively collected administrative data to inform targeted interventions and contribute to suicide prevention efforts.\n"
     ]
    }
   ],
   "source": [
    "print(data['response'])"
   ]
  }
 ],
 "metadata": {
  "kernelspec": {
   "display_name": "venv",
   "language": "python",
   "name": "python3"
  },
  "language_info": {
   "codemirror_mode": {
    "name": "ipython",
    "version": 3
   },
   "file_extension": ".py",
   "mimetype": "text/x-python",
   "name": "python",
   "nbconvert_exporter": "python",
   "pygments_lexer": "ipython3",
   "version": "3.9.9"
  },
  "orig_nbformat": 4
 },
 "nbformat": 4,
 "nbformat_minor": 2
}
