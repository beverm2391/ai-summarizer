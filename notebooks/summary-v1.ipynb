{
 "cells": [
  {
   "cell_type": "code",
   "execution_count": 89,
   "metadata": {},
   "outputs": [],
   "source": [
    "from dotenv import load_dotenv\n",
    "import os\n",
    "load_dotenv(\"../.env\")\n",
    "OPENAI_API_KEY = os.environ.get('OPENAI-API-KEY')\n",
    "import openai\n",
    "openai.api_key = OPENAI_API_KEY"
   ]
  },
  {
   "cell_type": "code",
   "execution_count": 91,
   "metadata": {},
   "outputs": [],
   "source": [
    "from langchain.embeddings.openai import OpenAIEmbeddings\n",
    "from langchain.text_splitter import TextSplitter\n",
    "from langchain.docstore.document import Document\n",
    "from langchain.prompts import PromptTemplate\n",
    "from langchain.document_loaders import PyMuPDFLoader\n",
    "from langchain.llms import OpenAI\n",
    "from langchain.llms import OpenAIChat\n",
    "from operator import itemgetter\n",
    "import numpy as np\n",
    "import tiktoken\n",
    "\n",
    "import random\n",
    "import matplotlib.colors as mcolors\n",
    "from sklearn.manifold import TSNE\n",
    "import matplotlib.pyplot as plt\n",
    "import numpy as np\n",
    "import pandas as pd\n",
    "from sklearn.cluster import KMeans\n",
    "from sklearn.metrics import silhouette_score\n",
    "\n",
    "from typing import List, Dict, Tuple"
   ]
  },
  {
   "attachments": {},
   "cell_type": "markdown",
   "metadata": {},
   "source": [
    "# Functions"
   ]
  },
  {
   "cell_type": "code",
   "execution_count": 4,
   "metadata": {},
   "outputs": [],
   "source": [
    "# this prevents the metadata from being None which causes errors with the vectorstore\n",
    "def sanitize_metadata(data):\n",
    "    for item in data:\n",
    "        meta = item.metadata\n",
    "        for key, value in meta.items():\n",
    "            if value is None:\n",
    "                meta[key] = \"\"\n",
    "    return data\n",
    "\n",
    "def unpack (data):\n",
    "    return [{'page' : idx + 1, 'content' : page.page_content, 'metadata' : page.metadata} for idx, page in enumerate(data)]\n",
    "\n",
    "def dot_product_similarity(doc_data: List[Dict], query_data: Dict) -> List[Tuple[int, float]]:\n",
    "    query_embedding = query_data['embedding']\n",
    "    doc_embeddings = [page['embedding'] for page in doc_data]\n",
    "    tuples_list = [(page['page'], np.dot(query_embedding, embedding)) for page, embedding in zip(doc_data, doc_embeddings)]\n",
    "    ordered_tuples = sorted(tuples_list, key=itemgetter(1), reverse=True)\n",
    "    top_five_tuples = ordered_tuples[:5]\n",
    "    return top_five_tuples\n",
    "\n",
    "def embed_query(query: str):\n",
    "    base_embeddings = OpenAIEmbeddings()\n",
    "    embedding = base_embeddings.embed_query(query)\n",
    "    return {\"query\" : query, \"embedding\" : embedding}\n",
    "\n",
    "def embed_doc(text_list : List[str]):\n",
    "    base_embeddings = OpenAIEmbeddings()\n",
    "    doc_embeddings = base_embeddings.embed_documents(text_list)\n",
    "    return doc_embeddings\n",
    "\n",
    "def get_context(query_data, doc_data: List[Dict]) -> List[Dict]:\n",
    "    top_five_tuples = dot_product_similarity(doc_data, query_data)\n",
    "    context = []\n",
    "    for item in top_five_tuples:\n",
    "        page = item[0]\n",
    "        data = {'page': page, 'similarity' : item[1], 'text': doc_data[page - 1]['content'], 'metadata' : doc_data[page - 1]['metadata']}\n",
    "        context.append(data)\n",
    "    return context\n",
    "\n",
    "def get_tokens(string: str, model: str) -> int:\n",
    "    \"\"\"Returns the number of tokens in a text string.\"\"\"\n",
    "    encoding = tiktoken.encoding_for_model(model)\n",
    "    num_tokens = len(encoding.encode(string))\n",
    "    return num_tokens\n",
    "\n",
    "def format_context(context: List[Dict], model: str, token_limit : int) -> str:\n",
    "    \"\"\"Returns a string of the first 1024 tokens of the context.\"\"\"\n",
    "    context_string = \"\"\n",
    "    meta_list = []\n",
    "    encoding = tiktoken.encoding_for_model(model)\n",
    "    for idx, item in enumerate(context):\n",
    "        sanitized_text = item['text'].replace(\"\\n\", \" \")\n",
    "        context_string += f\"Page: {item['page']}\\n\\nText: {sanitized_text}\\n\\n\"\n",
    "        meta_list.append(item['metadata'])\n",
    "        tokens = get_tokens(context_string, model)\n",
    "        if tokens > token_limit:\n",
    "            encoded_text = encoding.encode(context_string)\n",
    "            # cut it down to the token limit\n",
    "            encoded_text = encoded_text[:token_limit]\n",
    "            # decode it back to a string\n",
    "            context_string = encoding.decode(encoded_text)\n",
    "            # some testing to make sure it worked\n",
    "            tokens = get_tokens(context_string, model)\n",
    "            assert tokens <= token_limit, f\"format context function failed to cut context down far enough. tokens: {tokens}\"\n",
    "            break\n",
    "    return context_string, meta_list\n",
    "    \n",
    "def upload_doc(fpath):\n",
    "    loader = PyMuPDFLoader(fpath)\n",
    "    # load the data\n",
    "    unsanitized = loader.load()\n",
    "    # make sure the metadata is not None\n",
    "    data = sanitize_metadata(unsanitized)\n",
    "\n",
    "    # get the doc embeddings\n",
    "    doc_embeddings = embed_doc([page.page_content for page in data])\n",
    "\n",
    "    # unpack the data and add the embeddings\n",
    "    mongodoc = unpack(data)\n",
    "    mongodoc = [{**page, \"embedding\": embedding} for page, embedding in zip(mongodoc, doc_embeddings)]\n",
    "    \n",
    "    return mongodoc"
   ]
  },
  {
   "attachments": {},
   "cell_type": "markdown",
   "metadata": {},
   "source": [
    "## Kmeans"
   ]
  },
  {
   "cell_type": "code",
   "execution_count": null,
   "metadata": {},
   "outputs": [],
   "source": [
    "class DFKMeans:\n",
    "    def __init__(self, data: List[Dict]):\n",
    "        self.data = data\n",
    "\n",
    "    def create_embedding_matrix(self):\n",
    "        embeddings = self.data['']\n",
    "        # if stored as csv then need to convert to list (from string)\n",
    "        if type(embeddings[0]) != list:\n",
    "            embeddings = [eval(embedding) for embedding in embeddings]\n",
    "        self.matrix = np.vstack(embeddings)\n",
    "        return self\n",
    "\n",
    "    # TODO add optimization for n_clusters\n",
    "    def cluster(self, n_clusters: int):\n",
    "        if not hasattr(self, \"matrix\"):\n",
    "            self.create_embedding_matrix()\n",
    "        kmeans = KMeans(n_clusters=n_clusters, init=\"k-means++\", random_state=42, n_init=10)\n",
    "        kmeans.fit(self.matrix)\n",
    "        labels = kmeans.labels_\n",
    "        self.df[\"cluster\"] = labels\n",
    "        return self\n",
    "\n",
    "    def cluster_optimized(self, max_clusters: int = 10):\n",
    "        if not hasattr(self, \"matrix\"):\n",
    "            self.create_embedding_matrix()\n",
    "        best_score = -1\n",
    "        best_clusters = None\n",
    "        for n_clusters in range(2, max_clusters+1):\n",
    "            kmeans = KMeans(n_clusters=n_clusters, init=\"k-means++\", random_state=42, n_init=10)\n",
    "            kmeans.fit(self.matrix)\n",
    "            labels = kmeans.labels_\n",
    "            score = silhouette_score(self.matrix, labels)\n",
    "            if score > best_score:\n",
    "                best_score = score\n",
    "                best_clusters = n_clusters\n",
    "        self.cluster(best_clusters)\n",
    "        return self\n",
    "\n",
    "    def get_cluster(self, cluster: int):\n",
    "        return self.df[self.df[\"cluster\"] == cluster]\n",
    "\n",
    "    def tnse_plot(self):\n",
    "        tsne = TSNE(n_components=2, perplexity=15, random_state=42, init=\"random\", learning_rate=200)\n",
    "        vis_dims2 = tsne.fit_transform(self.matrix)\n",
    "\n",
    "        x = [x for x, y in vis_dims2]\n",
    "        y = [y for x, y in vis_dims2]\n",
    "        \n",
    "        n_clusters = len(self.df['cluster'].unique())\n",
    "\n",
    "        for category, color in enumerate(random_tableau_colors(n_clusters)):\n",
    "            xs = np.array(x)[self.df.cluster == category]\n",
    "            ys = np.array(y)[self.df.cluster == category]\n",
    "            plt.scatter(xs, ys, color=color, alpha=0.3)\n",
    "\n",
    "            avg_x = xs.mean()\n",
    "            avg_y = ys.mean()\n",
    "\n",
    "            plt.scatter(avg_x, avg_y, marker=\"x\", color=color, s=100)\n",
    "        plt.title(\"Clusters identified visualized in language 2d using t-SNE\")\n",
    "\n",
    "    def get_random_subsamble(self, cluster : int, n_samples : int, token_limit : int):\n",
    "        # handle edge case where n_samples > number of samples in cluster\n",
    "        if n_samples > len(self.df[self.df[\"cluster\"] == cluster]):\n",
    "            n_samples = len(self.df[self.df[\"cluster\"] == cluster])\n",
    "\n",
    "        # get random samples from cluster, process - set limits\n",
    "        batch = self.df[self.df[\"cluster\"] == cluster].sample(n_samples)[[\"text\"]].values\n",
    "        sample_token_limit = token_limit // n_samples\n",
    "        est_char_limit = sample_token_limit * 4\n",
    "        samples_text_list = [''.join(sample).replace('\\n', ' ').strip() for sample in batch]\n",
    "        \n",
    "        # get subsamples\n",
    "        subsamples = []\n",
    "        for idx, sample_text in enumerate(samples_text_list):\n",
    "            subsample = f'Chunk {idx+1}: ' + sample_text[:est_char_limit]\n",
    "            tokens = sample_token_limit + 1\n",
    "            while tokens > sample_token_limit:\n",
    "                tokens = get_tokens(subsample)\n",
    "                subsample = subsample[:-1]\n",
    "            subsamples.append(subsample)\n",
    "        final_subsample = '\\n\\n'.join(subsamples)\n",
    "        # im adding 2*n_samples to the token limit to account for 2 more tokens per sample due to the new line character\n",
    "        assert get_tokens(final_subsample) <= token_limit + 2*n_samples, \"Subsample is too long.\"\n",
    "\n",
    "        return final_subsample\n",
    "\n",
    "# ! PLOTS ---------------------------------------------------------------------\n",
    "\n",
    "\n",
    "def random_colors(n):\n",
    "    # define a list of possible color names\n",
    "    color_names = list(mcolors.CSS4_COLORS.keys())\n",
    "    \n",
    "    # shuffle the list of color names\n",
    "    random.shuffle(color_names)\n",
    "    # select the first n color names\n",
    "    return color_names[:n]\n",
    "\n",
    "def random_tableau_colors(n):\n",
    "    tableau_colors = ['tab:blue', 'tab:orange', 'tab:green', 'tab:red', 'tab:purple', 'tab:brown', 'tab:pink', 'tab:gray', 'tab:olive', 'tab:cyan']\n",
    "    random.shuffle(tableau_colors)\n",
    "    colors = tableau_colors*(n//10) + tableau_colors[:n%10]\n",
    "    return colors"
   ]
  },
  {
   "cell_type": "code",
   "execution_count": 45,
   "metadata": {},
   "outputs": [],
   "source": [
    "def random_colors(n):\n",
    "    # define a list of possible color names\n",
    "    color_names = list(mcolors.CSS4_COLORS.keys())\n",
    "    \n",
    "    # shuffle the list of color names\n",
    "    random.shuffle(color_names)\n",
    "    # select the first n color names\n",
    "    return color_names[:n]\n",
    "\n",
    "def random_tableau_colors(n):\n",
    "    tableau_colors = ['tab:blue', 'tab:orange', 'tab:green', 'tab:red', 'tab:purple', 'tab:brown', 'tab:pink', 'tab:gray', 'tab:olive', 'tab:cyan']\n",
    "    random.shuffle(tableau_colors)\n",
    "    colors = tableau_colors*(n//10) + tableau_colors[:n%10]\n",
    "    return colors\n",
    "\n",
    "class DocKMeans:\n",
    "    def __init__(self, data: List[Dict]):\n",
    "        self.data = data\n",
    "\n",
    "    def create_embedding_matrix(self):\n",
    "        embeddings = [page['embedding'] for page in self.data]\n",
    "        # if stored as csv then need to convert to list (from string)\n",
    "        if type(embeddings[0]) != list:\n",
    "            embeddings = [eval(embedding) for embedding in embeddings]\n",
    "        self.matrix = np.vstack(embeddings)\n",
    "        return self\n",
    "    \n",
    "    def cluster(self, n_clusters: int):\n",
    "        if not hasattr(self, \"matrix\"):\n",
    "            self.create_embedding_matrix()\n",
    "        kmeans = KMeans(n_clusters=n_clusters, init=\"k-means++\", random_state=42, n_init=10)\n",
    "        kmeans.fit(self.matrix)\n",
    "        labels = kmeans.labels_\n",
    "        self.data = [dict(page, **{\"cluster\": label}) for page, label in zip(self.data, labels)]\n",
    "        return self\n",
    "\n",
    "    def cluster_optimized(self, max_clusters: int = 10):\n",
    "        if not hasattr(self, \"matrix\"):\n",
    "            self.create_embedding_matrix()\n",
    "        best_score = -1\n",
    "        best_clusters = None\n",
    "        for n_clusters in range(2, max_clusters+1):\n",
    "            kmeans = KMeans(n_clusters=n_clusters, init=\"k-means++\", random_state=42, n_init=10)\n",
    "            kmeans.fit(self.matrix)\n",
    "            labels = kmeans.labels_\n",
    "            score = silhouette_score(self.matrix, labels)\n",
    "            if score > best_score:\n",
    "                best_score = score\n",
    "                best_clusters = n_clusters\n",
    "        self.cluster(best_clusters)\n",
    "        return self\n"
   ]
  },
  {
   "cell_type": "code",
   "execution_count": 64,
   "metadata": {},
   "outputs": [],
   "source": [
    "import re\n",
    "\n",
    "def sanitize_text(text):\n",
    "    # Replace any non-alphanumeric character with a space\n",
    "    text = re.sub(r'[^\\w\\s]', ' ', text)\n",
    "    # Replace any multiple spaces with a single space\n",
    "    text = re.sub(r'\\s+', ' ', text)\n",
    "    # Strip leading and trailing whitespace\n",
    "    text = text.strip()\n",
    "    return text"
   ]
  },
  {
   "attachments": {},
   "cell_type": "markdown",
   "metadata": {},
   "source": [
    "# MAIN"
   ]
  },
  {
   "cell_type": "code",
   "execution_count": 5,
   "metadata": {},
   "outputs": [],
   "source": [
    "fpath = \"../data/powers2017.pdf\"\n",
    "mongodoc = upload_doc(fpath)"
   ]
  },
  {
   "cell_type": "code",
   "execution_count": 65,
   "metadata": {},
   "outputs": [],
   "source": [
    "page_text = ' '.join([sanitize_text(page['content']) for page in mongodoc])"
   ]
  },
  {
   "cell_type": "code",
   "execution_count": 71,
   "metadata": {},
   "outputs": [],
   "source": [
    "enc = tiktoken.encoding_for_model(\"text-davinci-003\")\n",
    "tokens = enc.encode(page_text)\n",
    "# split into chunks of 2800 tokens\n",
    "chunks = [tokens[i:i+2800] for i in range(0, len(tokens), 2800)]\n",
    "# decode chunks\n",
    "decoded = [enc.decode(chunk) for chunk in chunks]"
   ]
  },
  {
   "cell_type": "code",
   "execution_count": 132,
   "metadata": {},
   "outputs": [],
   "source": [
    "class Completion:\n",
    "    def __init__(self, temperature, max_tokens, stream=False, model=\"text-davinci-003\", **kwargs):\n",
    "        self.temperature = temperature\n",
    "        self.max_tokens = max_tokens\n",
    "        self.stream = stream\n",
    "        self.model = model\n",
    "        self.kwargs = kwargs\n",
    "\n",
    "        openai.api_key = os.getenv(\"OPENAI_API_KEY\")\n",
    "    \n",
    "    def __call__(self, text):\n",
    "        raw_response = openai.Completion.create(\n",
    "            model=self.model,\n",
    "            prompt=text,\n",
    "            temperature=self.temperature,\n",
    "            max_tokens=self.max_tokens,\n",
    "            **self.kwargs\n",
    "        )\n",
    "        if self.stream:\n",
    "            return raw_response\n",
    "        else:\n",
    "            return raw_response['choices'][0]['text'].strip()\n",
    "\n",
    "\n",
    "class Chat:\n",
    "    def __init__(self, temperature, system_message=\"You are a helpful assistant.\", messages=None, model='gpt-3.5-turbo'):\n",
    "        self.messages = []\n",
    "        self.messages.append({\"role\": \"system\", \"content\": system_message})\n",
    "        if messages is not None:\n",
    "            self.messages += [{\"role\": \"user\", \"content\": message} for message in messages]\n",
    "        self.model = model\n",
    "        self.temperature = temperature\n",
    "\n",
    "    def __call__(self, user_message: str):\n",
    "        user_message = {\"role\": \"user\", \"content\": user_message}\n",
    "        self.messages.append(user_message)\n",
    "        raw_response = openai.ChatCompletion.create(\n",
    "            model=self.model,\n",
    "            messages=self.messages,\n",
    "            temperature=self.temperature,\n",
    "        )\n",
    "        response_message = raw_response['choices'][0]['message']['content'].strip()\n",
    "        self.messages.append(response_message)\n",
    "        return response_message"
   ]
  },
  {
   "cell_type": "code",
   "execution_count": null,
   "metadata": {},
   "outputs": [],
   "source": [
    "chat = Chat(temperature=0.9)\n",
    "print(chat(\"Write a poem about a dog.\"))"
   ]
  },
  {
   "attachments": {},
   "cell_type": "markdown",
   "metadata": {},
   "source": [
    "# Get Citation"
   ]
  },
  {
   "cell_type": "code",
   "execution_count": 168,
   "metadata": {},
   "outputs": [],
   "source": [
    "meta_list = [page['metadata'] for page in mongodoc]\n",
    "\n",
    "citation_chat = Chat(temperature=0.9)\n",
    "get_citation_prompt = f\"Use this metadata to generate a ciation in APA format: \\n\\n{meta_list}\"\n",
    "final_citation = citation_chat(get_citation_prompt)"
   ]
  },
  {
   "cell_type": "code",
   "execution_count": 170,
   "metadata": {},
   "outputs": [
    {
     "data": {
      "text/plain": [
       "'Powers, M. B. (2017). Core Mechanisms of Cognitive Behavioral Therapy for Anxiety and Depression. Psychiatric Clinics of North America, 40, 611-623. doi:10.1016/j.psc.2017.08.010.'"
      ]
     },
     "execution_count": 170,
     "metadata": {},
     "output_type": "execute_result"
    }
   ],
   "source": [
    "final_citation"
   ]
  },
  {
   "attachments": {},
   "cell_type": "markdown",
   "metadata": {},
   "source": [
    "# Get intermediate data"
   ]
  },
  {
   "cell_type": "code",
   "execution_count": 175,
   "metadata": {},
   "outputs": [
    {
     "name": "stdout",
     "output_type": "stream",
     "text": [
      "Chunk 1 of 2\n",
      "main_ideas\n",
      "quotes\n",
      "passages\n",
      "Chunk 2 of 2\n",
      "main_ideas\n",
      "quotes\n",
      "passages\n"
     ]
    }
   ],
   "source": [
    "citation_qualifier = f\"Use this citation: {final_citation} to cite your work.\"\n",
    "\n",
    "main_ideas_prompt = f\"Identify and list 2-3 main ideas from the context. {citation_qualifier}\"\n",
    "quotes_prompt = f\"Identify and list 2-3 relevant quotes from the context. {citation_qualifier}\"\n",
    "passages_prompt = f\"Identify and list 2-3 relevant passages from the context. {citation_qualifier}\"\n",
    "\n",
    "prompts = [\n",
    "    {\"type\": \"main_ideas\", \"prompt\": main_ideas_prompt},\n",
    "    {\"type\": \"quotes\", \"prompt\": quotes_prompt},\n",
    "    {\"type\": \"passages\", \"prompt\": passages_prompt}\n",
    "]\n",
    "\n",
    "context = decoded[:2]\n",
    "\n",
    "system_message = \"You are a helpful assistant that is very good at problem solving who thinks step by step. You always cite direct quotes and paraphrases with the appropriate in-text citation.\"\n",
    "\n",
    "responses = []\n",
    "for idx, chunk in enumerate(context):\n",
    "    print(f\"Chunk {idx+1} of {len(context)}\")\n",
    "    page_responses = []\n",
    "    for prompt in prompts:\n",
    "        print(prompt[\"type\"])\n",
    "        chat = Chat(temperature=0.9, system_message=system_message)\n",
    "        response = chat(f\"CONTEXT:{chunk}\\n\\nQUERY:{prompt['prompt']}\")\n",
    "        page_responses.append(\n",
    "            {\"Chunk\": idx+1, \"prompt_type\": prompt[\"type\"], \"response\": response})\n",
    "    responses.append(page_responses)"
   ]
  },
  {
   "cell_type": "code",
   "execution_count": 176,
   "metadata": {},
   "outputs": [
    {
     "name": "stdout",
     "output_type": "stream",
     "text": [
      "Chunk: 1\n",
      "Type: main_ideas\n",
      "\n",
      "Response:\n",
      "1. The article discusses the core mechanisms of Cognitive Behavioral Therapy (CBT) for anxiety and depression, including fear extinction and cognitive change through cognitive restructuring and behavioral activation.\n",
      "\n",
      "2. The authors emphasize the importance of identifying treatment mediators to improve interventions and suggest seven criteria for establishing a causal relationship between the independent variable, the mediator, and the dependent variable.\n",
      "\n",
      "3. The study also presents research on fear extinction and threat reappraisal as core mechanisms of change in CBT for anxiety disorders, with fear extinction primarily targeting behavior and inhibitory learning, and cognitive change targeting cognitive misappraisal activity.\n",
      "Chunk: 1\n",
      "Type: quotes\n",
      "\n",
      "Response:\n",
      "1. \"Core mechanisms of CBT include the specific psychological factors responsible for symptom improvement with therapy.\" (Powers, 2017, p. 611)\n",
      "2. \"The authors first briefly define CBT and mediators of change. Next, they discuss core mechanisms of change in CBT for anxiety and related disorders including extinction and threat reappraisal.\" (Powers, 2017, p. 611)\n",
      "3. \"CBT seeks to target these faulty threat appraisals through exposure and cognitive restructuring. The overarching goal is threat reappraisal and resulting symptom improvement, reduced anxiety. Thus, threat reappraisal is a proposed mediator for the efficacy of CBT in anxiety disorders.\" (Powers, 2017, p. 620)\n",
      "Chunk: 1\n",
      "Type: passages\n",
      "\n",
      "Response:\n",
      "1. \"The authors first briefly define CBT and mediators of change. Next, they discuss core mechanisms of change in CBT for anxiety and related disorders including extinction and threat reappraisal. Finally, they cover cognitive change as the most researched mediator of CBT for depression.\" (page 611)\n",
      "\n",
      "2. \"CBT seeks to target these faulty threat appraisals through exposure and cognitive restructuring. The overarching goal is threat reappraisal and resulting symptom improvement reduced anxiety. Thus, threat reappraisal is a proposed mediator for the efficacy of CBT in anxiety disorders.\" (page 614)\n",
      "\n",
      "3. \"Thus, there was strong evidence of the association between threat reappraisal and symptom reduction. However, there was less evidence that threat reappraisal caused symptom reduction, particularly in OCD.\" (page 623) \n",
      "\n",
      "(Powers, M. B. (2017). Core Mechanisms of Cognitive Behavioral Therapy for Anxiety and Depression. Psychiatric Clinics of North America, 40, 611-623. doi:10.1016/j.psc.2017.08.010.)\n",
      "Chunk: 2\n",
      "Type: main_ideas\n",
      "\n",
      "Response:\n",
      "1) The focus of CBT for anxiety disorders has shifted from immediate anxiety reduction to enhancing threat reappraisal, attending to core threats, and summarizing what is learned to improve long-term quality of life. \n",
      "2) Cognitive change is a widely researched mediator of CBT for depression, observed in both cognitive restructuring and behavioral activation therapies, and is important in achieving treatment goals. \n",
      "3) The limbic system and prefrontal cortex are intricately involved in the process of change for both anxiety and depression, and fear extinction and threat reappraisal theories may represent differences in levels of analysis. (Powers, 2017)\n",
      "Chunk: 2\n",
      "Type: quotes\n",
      "\n",
      "Response:\n",
      "1. \"The most researched psychological mechanism in CBT for depression is cognitive change. Cognitive change is observed in both antidepressant and CBT interventions. It is also observed in both cognitive (cognitive restructuring) and behavioral (behavioral activation) therapies.\" (Powers, 2017, p. 617)\n",
      "\n",
      "2. \"Patients are expected to make their threat predictions explicit (both likelihood and cost estimations). They are then encouraged to attend to and evaluate these predictions during and after exposure trials. Thus, they are guided to attend to their core threats, evaluate them, and then summarize what is learned in an effort to enhance the threat reappraisal.\" (Powers, 2017, p. 614)\n",
      "\n",
      "3. \"Across anxiety and depression, there is agreement that the limbic system and prefrontal cortex are intricately involved in the process of change.\" (Powers, 2017, p. 611)\n",
      "Chunk: 2\n",
      "Type: passages\n",
      "\n",
      "Response:\n",
      "1. \"Recommendations in the field are to identify mechanisms of change to guide the search for augmentation strategies or the development of future CBT. The most evidence in the anxiety disorders currently is for mediation described by fear extinction and threat reappraisal.\" (Powers, 2017, p. 611)\n",
      "2. \"Across anxiety and depression there is agreement that the limbic system and prefrontal cortex are intricately involved in the process of change. The most researched psychological mechanism in CBT for depression is cognitive change.\" (Powers, 2017, p. 617)\n",
      "3. \"Finally, research on sudden gains in depression further supports the role of cognitive change as a mediator. Sudden gains refer to a relatively sudden drop in depressive symptoms during CBT, an average drop of 11 points on the Beck Depression Inventory that occurs between sessions 4 and 8 in approximately 30-50% of patients. Importantly, Tang and colleagues found that cognitive change predicted sudden gains.\" (Powers, 2017, p. 617)\n"
     ]
    }
   ],
   "source": [
    "for page in responses:\n",
    "    for response in page:\n",
    "        print(f'Chunk: {response[\"Chunk\"]}\\nType: {response[\"prompt_type\"]}\\n\\nResponse:\\n{response[\"response\"]}')"
   ]
  },
  {
   "attachments": {},
   "cell_type": "markdown",
   "metadata": {},
   "source": [
    "# Summarize intermediate data"
   ]
  },
  {
   "cell_type": "code",
   "execution_count": 179,
   "metadata": {},
   "outputs": [],
   "source": [
    "llm = Completion(temperature=0.9, max_tokens=1000)\n",
    "summary_responses = []\n",
    "for page in responses:\n",
    "    combine_prompt = f\"Combine the following Main Ideas:\\n{page[0]['response']}\\n\\nQuotes:\\n{page[1]['response']}\\n\\nPassages:\\n{page[2]['response']}\\n\\ninto a short summary. Make sure to include appropriate citations as needed.\\n\\nSUMMARY:\"\n",
    "    summary_response = llm(combine_prompt)\n",
    "    summary_responses.append(summary_response)"
   ]
  },
  {
   "cell_type": "code",
   "execution_count": 180,
   "metadata": {},
   "outputs": [
    {
     "name": "stdout",
     "output_type": "stream",
     "text": [
      "Cognitive Behavioral Therapy (CBT) for anxiety and depression is a form of psychotherapy that focuses on changing thought patterns and behaviors that are contributing to mental health issues. The article discusses the core mechanisms of CBT, including fear extinction and cognitive change through cognitive restructuring and behavioral activation, and puts emphasis on the importance of identifying treatment mediators to improve interventions (Powers, 2017, p. 611). Research presented in the study suggests that the core mechanisms of change in CBT for anxiety disorders are fear extinction, which targets behavior and inhibitory learning, and cognitive change, which targets cognitive misappraisals (Powers, 2017, p. 620). Threat reappraisal is proposed as a mediator for the efficacy of CBT in anxiety disorders and is associated with symptom reduction, however, there is less evidence that threat reappraisal causes symptom reduction in cases of OCD (Powers, 2017, p. 623).\n",
      "According to Powers (2017), the focus of CBT for anxiety disorders has shifted from immediate anxiety reduction to enhancing threat reappraisal, attending to core threats, and summarizing what is learned to improve long-term quality of life. Cognitive change has consistently been found to be a mediator of CBT for depression, observed in both cognitive restructuring and behavioral activation therapies. This cognitive change plays an essential role in achieving treatment goals. Furthermore, the limbic system and prefrontal cortex are intricately involved in the process of change for both anxiety and depression, and fear extinction and threat reappraisal theories may represent differences in levels of analysis. Additionally, sudden gains in depression further support the role of cognitive change as a mediator. (Powers, 2017)\n"
     ]
    }
   ],
   "source": [
    "for response in summary_responses:\n",
    "    print(response)"
   ]
  },
  {
   "attachments": {},
   "cell_type": "markdown",
   "metadata": {},
   "source": [
    "# Combine summaries into essay"
   ]
  },
  {
   "cell_type": "code",
   "execution_count": 183,
   "metadata": {},
   "outputs": [
    {
     "name": "stdout",
     "output_type": "stream",
     "text": [
      "Cognitive Behavioral Therapy (CBT) is a form of psychotherapy that focuses on changing thought patterns and behaviors that are contributing to mental health issues (Powers, 2017, p. 611). The core mechanisms of CBT that are discussed in Powers' study (2017) include fear extinction, cognitive change through cognitive restructuring and behavioral activation, and identifying treatment mediators to improve interventions (p.620-621). In particular, research suggests that threat reappraisal is proposed as a mediator for the efficacy of CBT in anxiety disorders and is associated with symptom reduction (Powers, 2017, p. 623). This process also plays an essential role in achieving treatment goals for depression, with cognitive change being a significant mediator for cognitive restructuring and behavioral activation therapies (Powers, 2017). Furthermore, both the limbic system and prefrontal cortex are intricately involved in the process of change for both anxiety and depression, and fear extinction and threat reappraisal theories may represent differences in levels of analysis (Powers, 2017). Additionally, sudden gains in depression further support the role of cognitive change as a mediator (Powers, 2017). The key focus of CBT for anxiety disorders has also shifted from immediate anxiety reduction to enhancing threat reappraisal, attending to core threats, and summarizing what is learned to improve long-term quality of life (Powers, 2017). \n",
      "\n",
      "In conclusion, CBT is a form of psychotherapy that centers around changing thought patterns and behaviors to improve mental health issues. The core mechanisms of CBT include fear extinction and cognitive change, while threat reappraisal is a mediator for achieving treatment goals in anxiety and depression. Additionally, the limbic system and prefrontal cortex are important parts of the change process, and sudden gains in depression can further support the role of cognitive change. The overall focus of CBT for anxiety disorders has shifted to improving long-term quality of life.\n",
      "\n",
      "Reference\n",
      "\n",
      "Powers, M. B. (2017). Core Mechanisms of Cognitive Behavioral Therapy for Anxiety and Depression. Psychiatric Clinics of North America, 40, 611-623. doi:10.1016/j.psc.2017.08.010.\n"
     ]
    }
   ],
   "source": [
    "print(llm(f\"combine the following passages:{' '.join([summary for summary in summary_responses])} into an essay. Retain your in-text citations and make sure to include a reference list at the end of your essay using this citation: {final_citation}.\"))"
   ]
  }
 ],
 "metadata": {
  "kernelspec": {
   "display_name": "venv",
   "language": "python",
   "name": "python3"
  },
  "language_info": {
   "codemirror_mode": {
    "name": "ipython",
    "version": 3
   },
   "file_extension": ".py",
   "mimetype": "text/x-python",
   "name": "python",
   "nbconvert_exporter": "python",
   "pygments_lexer": "ipython3",
   "version": "3.9.9"
  },
  "orig_nbformat": 4,
  "vscode": {
   "interpreter": {
    "hash": "d30dbc225a77f624d100d49fcf625dcab10209cefe14c68d9c5591ea408b94d7"
   }
  }
 },
 "nbformat": 4,
 "nbformat_minor": 2
}
