{
 "cells": [
  {
   "cell_type": "code",
   "execution_count": 3,
   "metadata": {},
   "outputs": [],
   "source": [
    "from dotenv import load_dotenv\n",
    "import os\n",
    "import sys\n",
    "load_dotenv(\".env\")\n",
    "sys.path.append(os.environ.get(\"PACKAGE_PATH\"))\n",
    "\n",
    "OPENAI_API_KEY = os.environ.get('OPENAI-API-KEY')\n",
    "import openai\n",
    "openai.api_key = OPENAI_API_KEY\n",
    "\n",
    "import time\n",
    "import json\n",
    "from pprint import pprint\n",
    "import asyncio\n",
    "\n",
    "from package.document import Document\n",
    "from package.schemas import Schema\n",
    "from package.utils import get_example_schema, get_template_schema, pretty_print"
   ]
  },
  {
   "cell_type": "code",
   "execution_count": 2,
   "metadata": {},
   "outputs": [
    {
     "name": "stdout",
     "output_type": "stream",
     "text": [
      "Warning: gpt-3.5-turbo may change over time. Returning num tokens assuming gpt-3.5-turbo-0301.\n"
     ]
    },
    {
     "data": {
      "text/plain": [
       "<package.document.Document at 0x7fc8957f52b0>"
      ]
     },
     "execution_count": 2,
     "metadata": {},
     "output_type": "execute_result"
    }
   ],
   "source": [
    "print(\"Starting doc processing...\\n\")\n",
    "start = time.perf_counter()\n",
    "fpath = \"/Users/beneverman/Documents/Coding/semantic-search/ai-summarizer/data/powers2017.pdf\"\n",
    "fpath = \"/Users/beneverman/Documents/Coding/semantic-search/ai-summarizer/data/Ophthalytics-Inc-CNN.pdf\"\n",
    "fpath = \"/Users/beneverman/Documents/Coding/semantic-search/ai-summarizer/data/handgun_suicide_ml.pdf\"\n",
    "doc = Document(fpath)\n",
    "doc.process_doc().get_chunks(\"gpt-3.5-turbo\", 1000)\n",
    "elapsed = time.perf_counter() - start\n",
    "\n",
    "print(f\"Doc processed in {elapsed:0.2f} seconds.\")"
   ]
  },
  {
   "cell_type": "code",
   "execution_count": 4,
   "metadata": {},
   "outputs": [
    {
     "name": "stdout",
     "output_type": "stream",
     "text": [
      "Generating schema...\n"
     ]
    },
    {
     "ename": "RuntimeError",
     "evalue": "asyncio.run() cannot be called from a running event loop",
     "output_type": "error",
     "traceback": [
      "\u001b[0;31m---------------------------------------------------------------------------\u001b[0m",
      "\u001b[0;31mRuntimeError\u001b[0m                              Traceback (most recent call last)",
      "Cell \u001b[0;32mIn[4], line 4\u001b[0m\n\u001b[1;32m      2\u001b[0m example \u001b[39m=\u001b[39m get_example_schema()\n\u001b[1;32m      3\u001b[0m schema_gen \u001b[39m=\u001b[39m Schema(template, example)\n\u001b[0;32m----> 4\u001b[0m schemas \u001b[39m=\u001b[39m \u001b[39mawait\u001b[39;00m schema_gen\u001b[39m.\u001b[39mmain(doc\u001b[39m.\u001b[39mchunks)\n",
      "File \u001b[0;32m~/Documents/Coding/semantic-search/ai-summarizer/package/schemas.py:131\u001b[0m, in \u001b[0;36mSchema.main\u001b[0;34m(self, context)\u001b[0m\n\u001b[1;32m    130\u001b[0m \u001b[39mdef\u001b[39;00m \u001b[39mmain\u001b[39m(\u001b[39mself\u001b[39m, context):\n\u001b[0;32m--> 131\u001b[0m     schemas \u001b[39m=\u001b[39m \u001b[39mself\u001b[39;49m\u001b[39m.\u001b[39;49mgenerate_schemas(context)\n\u001b[1;32m    132\u001b[0m     validated_schmas \u001b[39m=\u001b[39m [\u001b[39mself\u001b[39m\u001b[39m.\u001b[39mvalidate_schema(schema) \u001b[39mfor\u001b[39;00m schema \u001b[39min\u001b[39;00m schemas]\n\u001b[1;32m    133\u001b[0m     \u001b[39mreturn\u001b[39;00m validated_schmas\n",
      "File \u001b[0;32m~/Documents/Coding/semantic-search/ai-summarizer/package/schemas.py:71\u001b[0m, in \u001b[0;36mSchema.generate_schemas\u001b[0;34m(self, contexts)\u001b[0m\n\u001b[1;32m     50\u001b[0m prompts \u001b[39m=\u001b[39m [\u001b[39mf\u001b[39m\u001b[39m\"\"\"\u001b[39m\n\u001b[1;32m     51\u001b[0m \u001b[39m        Here is an example schema:\u001b[39m\n\u001b[1;32m     52\u001b[0m \u001b[39m        \u001b[39m\u001b[39m{\u001b[39;00m\u001b[39mself\u001b[39m\u001b[39m.\u001b[39mtemplate[\u001b[39m1\u001b[39m]\u001b[39m}\u001b[39;00m\n\u001b[0;32m   (...)\u001b[0m\n\u001b[1;32m     67\u001b[0m \u001b[39m        \u001b[39m\u001b[39m\"\"\"\u001b[39m\n\u001b[1;32m     68\u001b[0m     \u001b[39mfor\u001b[39;00m context \u001b[39min\u001b[39;00m contexts]\n\u001b[1;32m     70\u001b[0m schemas \u001b[39m=\u001b[39m []\n\u001b[0;32m---> 71\u001b[0m asyncio\u001b[39m.\u001b[39;49mrun(run_chat_async(prompts, schemas, \u001b[39mself\u001b[39;49m\u001b[39m.\u001b[39;49mmodel))\n\u001b[1;32m     72\u001b[0m \u001b[39mreturn\u001b[39;00m schemas\n",
      "File \u001b[0;32m/Library/Frameworks/Python.framework/Versions/3.9/lib/python3.9/asyncio/runners.py:33\u001b[0m, in \u001b[0;36mrun\u001b[0;34m(main, debug)\u001b[0m\n\u001b[1;32m      9\u001b[0m \u001b[39m\u001b[39m\u001b[39m\"\"\"Execute the coroutine and return the result.\u001b[39;00m\n\u001b[1;32m     10\u001b[0m \n\u001b[1;32m     11\u001b[0m \u001b[39mThis function runs the passed coroutine, taking care of\u001b[39;00m\n\u001b[0;32m   (...)\u001b[0m\n\u001b[1;32m     30\u001b[0m \u001b[39m    asyncio.run(main())\u001b[39;00m\n\u001b[1;32m     31\u001b[0m \u001b[39m\"\"\"\u001b[39;00m\n\u001b[1;32m     32\u001b[0m \u001b[39mif\u001b[39;00m events\u001b[39m.\u001b[39m_get_running_loop() \u001b[39mis\u001b[39;00m \u001b[39mnot\u001b[39;00m \u001b[39mNone\u001b[39;00m:\n\u001b[0;32m---> 33\u001b[0m     \u001b[39mraise\u001b[39;00m \u001b[39mRuntimeError\u001b[39;00m(\n\u001b[1;32m     34\u001b[0m         \u001b[39m\"\u001b[39m\u001b[39masyncio.run() cannot be called from a running event loop\u001b[39m\u001b[39m\"\u001b[39m)\n\u001b[1;32m     36\u001b[0m \u001b[39mif\u001b[39;00m \u001b[39mnot\u001b[39;00m coroutines\u001b[39m.\u001b[39miscoroutine(main):\n\u001b[1;32m     37\u001b[0m     \u001b[39mraise\u001b[39;00m \u001b[39mValueError\u001b[39;00m(\u001b[39m\"\u001b[39m\u001b[39ma coroutine was expected, got \u001b[39m\u001b[39m{!r}\u001b[39;00m\u001b[39m\"\u001b[39m\u001b[39m.\u001b[39mformat(main))\n",
      "\u001b[0;31mRuntimeError\u001b[0m: asyncio.run() cannot be called from a running event loop"
     ]
    }
   ],
   "source": [
    "template = get_template_schema()\n",
    "example = get_example_schema()\n",
    "schema = Schema(template, example)\n",
    "schema.pretty_print(schema.main(doc.chunks[0]))"
   ]
  },
  {
   "cell_type": "code",
   "execution_count": null,
   "metadata": {},
   "outputs": [],
   "source": []
  }
 ],
 "metadata": {
  "kernelspec": {
   "display_name": "venv",
   "language": "python",
   "name": "python3"
  },
  "language_info": {
   "codemirror_mode": {
    "name": "ipython",
    "version": 3
   },
   "file_extension": ".py",
   "mimetype": "text/x-python",
   "name": "python",
   "nbconvert_exporter": "python",
   "pygments_lexer": "ipython3",
   "version": "3.9.9"
  },
  "orig_nbformat": 4
 },
 "nbformat": 4,
 "nbformat_minor": 2
}
