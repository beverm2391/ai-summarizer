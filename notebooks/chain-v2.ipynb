{
 "cells": [
  {
   "cell_type": "code",
   "execution_count": 1,
   "metadata": {},
   "outputs": [],
   "source": [
    "from dotenv import load_dotenv\n",
    "import os\n",
    "load_dotenv(\"../.env\")\n",
    "api_key = os.environ.get('OPENAI-API-KEY')"
   ]
  },
  {
   "cell_type": "code",
   "execution_count": 2,
   "metadata": {},
   "outputs": [],
   "source": [
    "from langchain.embeddings.openai import OpenAIEmbeddings\n",
    "from langchain.text_splitter import CharacterTextSplitter\n",
    "from langchain.docstore.document import Document\n",
    "from langchain.prompts import PromptTemplate\n",
    "from langchain.document_loaders import PyMuPDFLoader\n",
    "from langchain.llms import OpenAI\n",
    "from operator import itemgetter\n",
    "import numpy as np\n",
    "import tiktoken\n",
    "from langchain.prompts import BasePromptTemplate\n",
    "from pydantic import BaseModel, validator\n",
    "\n",
    "from typing import List, Dict, Tuple"
   ]
  },
  {
   "attachments": {},
   "cell_type": "markdown",
   "metadata": {},
   "source": [
    "# Functions"
   ]
  },
  {
   "cell_type": "code",
   "execution_count": 3,
   "metadata": {},
   "outputs": [],
   "source": [
    "# this prevents the metadata from being None which causes errors with the vectorstore\n",
    "def sanitize_metadata(data):\n",
    "    for item in data:\n",
    "        meta = item.metadata\n",
    "        for key, value in meta.items():\n",
    "            if value is None:\n",
    "                meta[key] = \"\"\n",
    "    return data\n",
    "\n",
    "def unpack (data):\n",
    "    return [{'page' : idx + 1, 'content' : page.page_content, 'metadata' : page.metadata} for idx, page in enumerate(data)]\n",
    "\n",
    "def dot_product_similarity(doc_data: List[Dict], query_data: Dict) -> List[Tuple[int, float]]:\n",
    "    query_embedding = query_data['embedding']\n",
    "    doc_embeddings = [page['embedding'] for page in doc_data]\n",
    "    tuples_list = [(page['page'], np.dot(query_embedding, embedding)) for page, embedding in zip(doc_data, doc_embeddings)]\n",
    "    ordered_tuples = sorted(tuples_list, key=itemgetter(1), reverse=True)\n",
    "    top_five_tuples = ordered_tuples[:5]\n",
    "    return top_five_tuples\n",
    "\n",
    "def embed_query(query: str):\n",
    "    base_embeddings = OpenAIEmbeddings()\n",
    "    embedding = base_embeddings.embed_query(query)\n",
    "    return {\"query\" : query, \"embedding\" : embedding}\n",
    "\n",
    "def embed_doc(text_list : List[str]):\n",
    "    base_embeddings = OpenAIEmbeddings()\n",
    "    doc_embeddings = base_embeddings.embed_documents(text_list)\n",
    "    return doc_embeddings\n",
    "\n",
    "def get_context(query_data, doc_data: List[Dict]) -> List[Dict]:\n",
    "    top_five_tuples = dot_product_similarity(doc_data, query_data)\n",
    "    context = []\n",
    "    for item in top_five_tuples:\n",
    "        page = item[0]\n",
    "        data = {'page': page, 'similarity' : item[1], 'text': doc_data[page - 1]['content'], 'metadata' : doc_data[page - 1]['metadata']}\n",
    "        context.append(data)\n",
    "    return context\n",
    "\n",
    "def get_tokens(string: str, model: str) -> int:\n",
    "    \"\"\"Returns the number of tokens in a text string.\"\"\"\n",
    "    encoding = tiktoken.encoding_for_model(model)\n",
    "    num_tokens = len(encoding.encode(string))\n",
    "    return num_tokens\n",
    "\n",
    "def format_context(context: List[Dict], model: str, token_limit : int) -> str:\n",
    "    \"\"\"Returns a string of the first 1024 tokens of the context.\"\"\"\n",
    "    context_string = \"\"\n",
    "    meta_list = []\n",
    "    encoding = tiktoken.encoding_for_model(model)\n",
    "    for idx, item in enumerate(context):\n",
    "        sanitized_text = item['text'].replace(\"\\n\", \" \")\n",
    "        context_string += f\"Page: {item['page']}\\n\\nText: {sanitized_text}\\n\\n\"\n",
    "        meta_list.append(item['metadata'])\n",
    "        tokens = get_tokens(context_string, model)\n",
    "        if tokens > token_limit:\n",
    "            encoded_text = encoding.encode(context_string)\n",
    "            # cut it down to the token limit\n",
    "            encoded_text = encoded_text[:token_limit]\n",
    "            # decode it back to a string\n",
    "            context_string = encoding.decode(encoded_text)\n",
    "            # some testing to make sure it worked\n",
    "            tokens = get_tokens(context_string, model)\n",
    "            assert tokens <= token_limit, f\"format context function failed to cut context down far enough. tokens: {tokens}\"\n",
    "            break\n",
    "    return context_string, meta_list\n",
    "\n",
    "class DocQAPromptTemplate(BasePromptTemplate, BaseModel):\n",
    "    \"\"\" A custom prompt template that takes a query and document data, and formats the prompt template to provide the formatted context + query to the language model. \"\"\"\n",
    "    @validator(\"input_variables\")\n",
    "    def validate_input_variables(cls, v):\n",
    "        \"\"\" Validate that the input variables are correct. \"\"\"\n",
    "        if len(v) != 2:\n",
    "            raise ValueError(\"DocQAPromptTemplate must have two input variables: query and context.\")\n",
    "        return v\n",
    "    \n",
    "    def format(self, query, formatted_context) -> str:\n",
    "        # Get the source code of the function\n",
    "        instruction = \"Answer the query with a lengthy, deatiled reponse, to the best of your ability based on the provided context. If the question isn't relevant to the context, tell me that and briefly describe the context.\"\n",
    "        # Generate the prompt to be sent to the language model\n",
    "        prompt = f\"INSTRUCTION:\\n{instruction}\\n\\nCONTEXT:\\n{formatted_context}\\n\\nQUERY:\\n{query}\\n\\nOUTPUT:\\n\"\n",
    "        return prompt\n",
    "    \n",
    "    def _prompt_type(self):\n",
    "        return \"doc context + query\""
   ]
  },
  {
   "cell_type": "code",
   "execution_count": 5,
   "metadata": {},
   "outputs": [],
   "source": [
    "def upload_doc(fpath):\n",
    "    loader = PyMuPDFLoader(fpath)\n",
    "    # load the data\n",
    "    unsanitized = loader.load()\n",
    "    # make sure the metadata is not None\n",
    "    data = sanitize_metadata(unsanitized)\n",
    "\n",
    "    # get the doc embeddings\n",
    "    doc_embeddings = embed_doc([page.page_content for page in data])\n",
    "\n",
    "    # unpack the data and add the embeddings\n",
    "    mongodoc = unpack(data)\n",
    "    mongodoc = [{**page, \"embedding\": embedding} for page, embedding in zip(mongodoc, doc_embeddings)]\n",
    "    \n",
    "    return mongodoc"
   ]
  },
  {
   "cell_type": "code",
   "execution_count": 11,
   "metadata": {},
   "outputs": [],
   "source": [
    "def query_doc(query: str, mongodoc: List[Dict], model: str, token_limit: int):\n",
    "    # embed the query\n",
    "    query_data = embed_query(query)\n",
    "    # get the context\n",
    "    context = get_context(query_data, mongodoc)\n",
    "    # format the context\n",
    "    formatted_context, meta_list = format_context(context, model, token_limit)\n",
    "    # format the prompt\n",
    "    prompt_template = DocQAPromptTemplate(input_variables=[\"query\", \"formatted_context\"])\n",
    "    prompt = prompt_template.format(query, formatted_context)\n",
    "    # query the language model\n",
    "    llm = OpenAI(temperature=0.7)\n",
    "    response = llm(prompt)\n",
    "    # return the response, the metadata, and the context\n",
    "    return response, meta_list, context"
   ]
  },
  {
   "attachments": {},
   "cell_type": "markdown",
   "metadata": {},
   "source": [
    "# Main"
   ]
  },
  {
   "cell_type": "code",
   "execution_count": 6,
   "metadata": {},
   "outputs": [],
   "source": [
    "fpath = \"../data/powers2017.pdf\"\n",
    "mongodoc = upload_doc(fpath)"
   ]
  },
  {
   "cell_type": "code",
   "execution_count": 7,
   "metadata": {},
   "outputs": [],
   "source": [
    "query = \"What is the most striking finding in the paper?\"\n",
    "model = \"text-davinci-003\"\n",
    "token_limit = 2800"
   ]
  },
  {
   "cell_type": "code",
   "execution_count": 12,
   "metadata": {},
   "outputs": [],
   "source": [
    "# embed the query\n",
    "query_data = embed_query(query)\n",
    "# get the context\n",
    "context = get_context(query_data, mongodoc)\n",
    "# format the context\n",
    "formatted_context, meta_list = format_context(context, model, token_limit)\n",
    "# format the prompt"
   ]
  },
  {
   "cell_type": "code",
   "execution_count": 16,
   "metadata": {},
   "outputs": [],
   "source": [
    "class RelevantPassagesPromptTemplate(BasePromptTemplate, BaseModel):\n",
    "    \"\"\" A custom prompt template that takes a query and document data, and formats the prompt template to provide the formatted context + query to the language model. \"\"\"\n",
    "    @validator(\"input_variables\")\n",
    "    def validate_input_variables(cls, v):\n",
    "        \"\"\" Validate that the input variables are correct. \"\"\"\n",
    "        if len(v) != 2:\n",
    "            raise ValueError(\"DocQAPromptTemplate must have two input variables: query and context.\")\n",
    "        return v\n",
    "    \n",
    "    def format(self, query, formatted_context) -> str:\n",
    "        # Get the source code of the function\n",
    "        instruction = \"Identify 3-5 most relevant passages in the context to the query.\"\n",
    "        # Generate the prompt to be sent to the language model\n",
    "        prompt = f\"INSTRUCTION:\\n{instruction}\\n\\nCONTEXT:\\n{formatted_context}\\n\\nQUERY:\\n{query}\\n\\nOUTPUT:\\n\"\n",
    "        return prompt\n",
    "    \n",
    "    def _prompt_type(self):\n",
    "        return \"doc context + query\""
   ]
  },
  {
   "cell_type": "code",
   "execution_count": 30,
   "metadata": {},
   "outputs": [],
   "source": [
    "citation = PromptTemplate(\n",
    "    input_variables=[\"metadata\"],\n",
    "    template=\"Generate a citation in APA format based on this metadata:\\METADATA:\\n {metadata}\",\n",
    ")\n",
    "\n",
    "final = PromptTemplate(\n",
    "    input_variables=[\"query\", \"passages\", \"citation\"],\n",
    "    template=\"Answer the query with a lengthy, deatiled reponse, to the best of your ability based on the provided context. Use the relevant passages, including in text citations for direct quotes and paraphrased content. Include a bibliography. Passages:\\n\\n{passages}\\n\\nCitations:\\n\\n{citation}\\n\\nQUERY:\\n{query}\\n\\nOUTPUT:\\n\",\n",
    ")\n",
    "\n",
    "relavant_passages_template = RelevantPassagesPromptTemplate(input_variables=[\"query\", \"formatted_context\"])"
   ]
  },
  {
   "cell_type": "code",
   "execution_count": 31,
   "metadata": {},
   "outputs": [],
   "source": [
    "llm = OpenAI(temperature=0.7)"
   ]
  },
  {
   "cell_type": "code",
   "execution_count": 32,
   "metadata": {},
   "outputs": [],
   "source": [
    "relevant_passages_prompt = relavant_passages_template.format(query, formatted_context)\n",
    "relevant_passages = llm(relevant_passages_prompt)\n",
    "\n",
    "citation_prompt = citation.format(metadata=meta_list)\n",
    "citation = llm(citation_prompt)\n",
    "\n",
    "final_prompt = final.format(query=query, passages=relevant_passages, citation=citation)\n",
    "final_response = llm(final_prompt)"
   ]
  },
  {
   "cell_type": "code",
   "execution_count": 33,
   "metadata": {},
   "outputs": [
    {
     "name": "stdout",
     "output_type": "stream",
     "text": [
      "The most striking finding in the paper is that cognitive therapy is as effective as pharmacotherapy in treating depression. This was found in the 1984 study by Simons et al., which showed that cognitive therapy and pharmacotherapy produced similar decreases in depressive symptoms. This finding was supported by DeRubeis et al.’s 1990 study, which showed that cognitive change and symptom change were equally present in cognitive therapy and pharmacotherapy. Strunk et al.’s 2007 study further demonstrated that cognitive therapy skills were related to the reduction of relapse risk following treatment for depression. This suggests that cognitive therapy is an effective method for treating depression. \n",
      "\n",
      "Bibliography:\n",
      "Simons, A. D., Garfield, S. L., & Murphy, G. E. (1984). The process of change in cognitive therapy and pharmacotherapy for depression. Changes in mood and cognition. Archives of General Psychiatry, 41, 45-51.\n",
      "\n",
      "DeRubeis, R. J., Evans, M. D., Hollon, S. D., et al. (1990). How does cognitive therapy work? Cognitive change and symptom change in cognitive therapy and pharmacotherapy for depression. Journal of Consulting and Clinical Psychology, 58, 862-89.\n",
      "\n",
      "Strunk,\n"
     ]
    }
   ],
   "source": [
    "print(final_response)"
   ]
  },
  {
   "cell_type": "code",
   "execution_count": 24,
   "metadata": {},
   "outputs": [],
   "source": [
    "relavant_passages_template = RelevantPassagesPromptTemplate(input_variables=[\"query\", \"formatted_context\"])\n",
    "relevant_passages_prompt = relavant_passages_template.format(query, formatted_context)\n",
    "relevant_passages = llm(relevant_passages_prompt)\n",
    "citations_prompt = citations.format(passages=relevant_passages)\n",
    "citations_response = llm(citations_prompt)\n",
    "final_prompt = final.format(query=query, passages=relevant_passages, citations=citations_response)\n",
    "final_response = llm(final_prompt)"
   ]
  },
  {
   "cell_type": "code",
   "execution_count": null,
   "metadata": {},
   "outputs": [],
   "source": []
  },
  {
   "cell_type": "code",
   "execution_count": 25,
   "metadata": {},
   "outputs": [
    {
     "name": "stdout",
     "output_type": "stream",
     "text": [
      "The most striking finding in the paper is that changes from pretreatment to mid treatment on cognitive measures significantly predicted change in depression from mid treatment to posttreatment (DeRubeis et al., 2010). This suggests that cognitive change can be a powerful predictor of changes in depression, and that cognitive therapies may be particularly effective in treating depression. Furthermore, cognitive change has been found to predict lower relapse rates (DeRubeis et al., 2010; 111-114), further underscoring the importance of cognitive change in the treatment of depression.\n"
     ]
    }
   ],
   "source": [
    "print(final_response)"
   ]
  },
  {
   "cell_type": "code",
   "execution_count": 27,
   "metadata": {},
   "outputs": [
    {
     "name": "stdout",
     "output_type": "stream",
     "text": [
      "[{'file_path': '../data/powers2017.pdf', 'page_number': 6, 'total_pages': 13, 'format': 'PDF 1.7', 'title': 'Core Mechanisms of Cognitive Behavioral Therapy for Anxiety and Depression', 'author': 'Mark B. Powers PhD', 'subject': 'Psychiatric Clinics of NA, 40 (2017) 611-623. doi:10.1016/j.psc.2017.08.010', 'keywords': '', 'creator': 'Elsevier', 'producer': 'Acrobat Distiller 8.1.0 (Windows)', 'creationDate': '24th October 2017', 'modDate': \"D:20171024190454+05'30'\", 'trapped': '', 'encryption': ''}, {'file_path': '../data/powers2017.pdf', 'page_number': 12, 'total_pages': 13, 'format': 'PDF 1.7', 'title': 'Core Mechanisms of Cognitive Behavioral Therapy for Anxiety and Depression', 'author': 'Mark B. Powers PhD', 'subject': 'Psychiatric Clinics of NA, 40 (2017) 611-623. doi:10.1016/j.psc.2017.08.010', 'keywords': '', 'creator': 'Elsevier', 'producer': 'Acrobat Distiller 8.1.0 (Windows)', 'creationDate': '24th October 2017', 'modDate': \"D:20171024190454+05'30'\", 'trapped': '', 'encryption': ''}, {'file_path': '../data/powers2017.pdf', 'page_number': 10, 'total_pages': 13, 'format': 'PDF 1.7', 'title': 'Core Mechanisms of Cognitive Behavioral Therapy for Anxiety and Depression', 'author': 'Mark B. Powers PhD', 'subject': 'Psychiatric Clinics of NA, 40 (2017) 611-623. doi:10.1016/j.psc.2017.08.010', 'keywords': '', 'creator': 'Elsevier', 'producer': 'Acrobat Distiller 8.1.0 (Windows)', 'creationDate': '24th October 2017', 'modDate': \"D:20171024190454+05'30'\", 'trapped': '', 'encryption': ''}, {'file_path': '../data/powers2017.pdf', 'page_number': 13, 'total_pages': 13, 'format': 'PDF 1.7', 'title': 'Core Mechanisms of Cognitive Behavioral Therapy for Anxiety and Depression', 'author': 'Mark B. Powers PhD', 'subject': 'Psychiatric Clinics of NA, 40 (2017) 611-623. doi:10.1016/j.psc.2017.08.010', 'keywords': '', 'creator': 'Elsevier', 'producer': 'Acrobat Distiller 8.1.0 (Windows)', 'creationDate': '24th October 2017', 'modDate': \"D:20171024190454+05'30'\", 'trapped': '', 'encryption': ''}]\n"
     ]
    }
   ],
   "source": [
    "print(meta_list)"
   ]
  }
 ],
 "metadata": {
  "kernelspec": {
   "display_name": "venv",
   "language": "python",
   "name": "python3"
  },
  "language_info": {
   "codemirror_mode": {
    "name": "ipython",
    "version": 3
   },
   "file_extension": ".py",
   "mimetype": "text/x-python",
   "name": "python",
   "nbconvert_exporter": "python",
   "pygments_lexer": "ipython3",
   "version": "3.9.9"
  },
  "orig_nbformat": 4,
  "vscode": {
   "interpreter": {
    "hash": "d30dbc225a77f624d100d49fcf625dcab10209cefe14c68d9c5591ea408b94d7"
   }
  }
 },
 "nbformat": 4,
 "nbformat_minor": 2
}
